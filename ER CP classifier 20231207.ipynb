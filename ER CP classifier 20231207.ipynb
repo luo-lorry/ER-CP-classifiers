{
 "cells": [
  {
   "cell_type": "code",
   "execution_count": 1,
   "id": "b0021b5c",
   "metadata": {},
   "outputs": [],
   "source": [
    "import numpy as np # linear algebra\n",
    "import pandas as pd\n",
    "import matplotlib.pyplot as plt  #Graphics\n",
    "from sklearn.ensemble import RandomForestClassifier  #Random Forest algorithm\n",
    "from sklearn.ensemble import RandomForestRegressor  #Random Forest algorithm\n",
    "from sklearn.model_selection import train_test_split"
   ]
  },
  {
   "cell_type": "markdown",
   "id": "3beb566c",
   "metadata": {},
   "source": [
    "### Load the data\n",
    "\n",
    "Load the MNIST data set from two `.csv` files into two variables. \n",
    "Print the number of data points in the training and test sets.\n",
    "Print the number of object in eacsh class."
   ]
  },
  {
   "cell_type": "code",
   "execution_count": 2,
   "id": "40e6746b",
   "metadata": {},
   "outputs": [
    {
     "name": "stdout",
     "output_type": "stream",
     "text": [
      "Training dataset has 59999 observations and 785 variables\n",
      "Testing dataset has 9999 observations and 785 variables\n"
     ]
    },
    {
     "data": {
      "text/plain": [
       "0    5923\n",
       "1    6742\n",
       "2    5958\n",
       "3    6131\n",
       "4    5842\n",
       "5    5420\n",
       "6    5918\n",
       "7    6265\n",
       "8    5851\n",
       "9    5949\n",
       "Name: 5, dtype: int64"
      ]
     },
     "execution_count": 2,
     "metadata": {},
     "output_type": "execute_result"
    }
   ],
   "source": [
    "train = pd.read_csv(\"data/mnist_train.csv\")\n",
    "test = pd.read_csv(\"data/mnist_test.csv\")\n",
    "print (\"Training dataset has %i observations and %i variables\" %(train.shape[0], train.shape[1]))\n",
    "print (\"Testing dataset has %i observations and %i variables\" %(test.shape[0], test.shape[1]))\n",
    "#Seperate the target and independant variables\n",
    "df_x=train.iloc[:,1:]\n",
    "df_y=train.iloc[:,0]\n",
    "#Check the frequency of each number\n",
    "df_y.value_counts().sort_index()"
   ]
  },
  {
   "cell_type": "markdown",
   "id": "994de2e3",
   "metadata": {},
   "source": [
    "### Slipt the data\n",
    "\n",
    "Split the training and test data into two equal parts. In total, we obtain four data sets, \n",
    "1. ${\\cal D}_{train}$ to train the classifier,\n",
    "2. ${\\cal D}_{val}$ to train the localization function, \n",
    "3. ${\\cal D}_{cal}$ to compute the quantiles,\n",
    "4. ${\\cal D}_{test}$ to evaluate the predictions sets."
   ]
  },
  {
   "cell_type": "code",
   "execution_count": 3,
   "id": "f934c413",
   "metadata": {},
   "outputs": [
    {
     "name": "stdout",
     "output_type": "stream",
     "text": [
      "train: (29999, 100)\n",
      "test: (5000, 100)\n"
     ]
    }
   ],
   "source": [
    "from sklearn.decomposition import PCA\n",
    "from sklearn.neighbors import KNeighborsClassifier\n",
    "#Split the train dataset and reduce dimensions\n",
    "df_x=train.iloc[:,1:]\n",
    "df_y=train.iloc[:,0]\n",
    "d = 100\n",
    "pca = PCA(n_components = d)\n",
    "pca.fit(df_x.to_numpy(dtype=float))\n",
    "xPca = pca.transform(df_x.to_numpy(dtype=float))\n",
    "X_train, X_val, y_train, y_val = train_test_split(xPca, df_y.to_numpy(dtype=int), test_size=0.5, random_state=0)\n",
    "\n",
    "\n",
    "#Split the train dataset\n",
    "df_x=test.iloc[:,1:]\n",
    "df_y=test.iloc[:,0]\n",
    "xPca = pca.transform(df_x.to_numpy(dtype=float))\n",
    "X_cal, X_test, y_cal, y_test = train_test_split(xPca, df_y.to_numpy(dtype=int), test_size=0.5, random_state=0)\n",
    "print(\"train:\", X_train.shape)\n",
    "print(\"test:\", X_test.shape)"
   ]
  },
  {
   "cell_type": "markdown",
   "id": "8aa00dab",
   "metadata": {},
   "source": [
    "### Train the classifier\n",
    "\n",
    "Train a Random Forest classifier on ${\\cal D}_{train}$."
   ]
  },
  {
   "cell_type": "code",
   "execution_count": 4,
   "id": "8700acbe",
   "metadata": {},
   "outputs": [
    {
     "data": {
      "text/html": [
       "<style>#sk-container-id-1 {color: black;}#sk-container-id-1 pre{padding: 0;}#sk-container-id-1 div.sk-toggleable {background-color: white;}#sk-container-id-1 label.sk-toggleable__label {cursor: pointer;display: block;width: 100%;margin-bottom: 0;padding: 0.3em;box-sizing: border-box;text-align: center;}#sk-container-id-1 label.sk-toggleable__label-arrow:before {content: \"▸\";float: left;margin-right: 0.25em;color: #696969;}#sk-container-id-1 label.sk-toggleable__label-arrow:hover:before {color: black;}#sk-container-id-1 div.sk-estimator:hover label.sk-toggleable__label-arrow:before {color: black;}#sk-container-id-1 div.sk-toggleable__content {max-height: 0;max-width: 0;overflow: hidden;text-align: left;background-color: #f0f8ff;}#sk-container-id-1 div.sk-toggleable__content pre {margin: 0.2em;color: black;border-radius: 0.25em;background-color: #f0f8ff;}#sk-container-id-1 input.sk-toggleable__control:checked~div.sk-toggleable__content {max-height: 200px;max-width: 100%;overflow: auto;}#sk-container-id-1 input.sk-toggleable__control:checked~label.sk-toggleable__label-arrow:before {content: \"▾\";}#sk-container-id-1 div.sk-estimator input.sk-toggleable__control:checked~label.sk-toggleable__label {background-color: #d4ebff;}#sk-container-id-1 div.sk-label input.sk-toggleable__control:checked~label.sk-toggleable__label {background-color: #d4ebff;}#sk-container-id-1 input.sk-hidden--visually {border: 0;clip: rect(1px 1px 1px 1px);clip: rect(1px, 1px, 1px, 1px);height: 1px;margin: -1px;overflow: hidden;padding: 0;position: absolute;width: 1px;}#sk-container-id-1 div.sk-estimator {font-family: monospace;background-color: #f0f8ff;border: 1px dotted black;border-radius: 0.25em;box-sizing: border-box;margin-bottom: 0.5em;}#sk-container-id-1 div.sk-estimator:hover {background-color: #d4ebff;}#sk-container-id-1 div.sk-parallel-item::after {content: \"\";width: 100%;border-bottom: 1px solid gray;flex-grow: 1;}#sk-container-id-1 div.sk-label:hover label.sk-toggleable__label {background-color: #d4ebff;}#sk-container-id-1 div.sk-serial::before {content: \"\";position: absolute;border-left: 1px solid gray;box-sizing: border-box;top: 0;bottom: 0;left: 50%;z-index: 0;}#sk-container-id-1 div.sk-serial {display: flex;flex-direction: column;align-items: center;background-color: white;padding-right: 0.2em;padding-left: 0.2em;position: relative;}#sk-container-id-1 div.sk-item {position: relative;z-index: 1;}#sk-container-id-1 div.sk-parallel {display: flex;align-items: stretch;justify-content: center;background-color: white;position: relative;}#sk-container-id-1 div.sk-item::before, #sk-container-id-1 div.sk-parallel-item::before {content: \"\";position: absolute;border-left: 1px solid gray;box-sizing: border-box;top: 0;bottom: 0;left: 50%;z-index: -1;}#sk-container-id-1 div.sk-parallel-item {display: flex;flex-direction: column;z-index: 1;position: relative;background-color: white;}#sk-container-id-1 div.sk-parallel-item:first-child::after {align-self: flex-end;width: 50%;}#sk-container-id-1 div.sk-parallel-item:last-child::after {align-self: flex-start;width: 50%;}#sk-container-id-1 div.sk-parallel-item:only-child::after {width: 0;}#sk-container-id-1 div.sk-dashed-wrapped {border: 1px dashed gray;margin: 0 0.4em 0.5em 0.4em;box-sizing: border-box;padding-bottom: 0.4em;background-color: white;}#sk-container-id-1 div.sk-label label {font-family: monospace;font-weight: bold;display: inline-block;line-height: 1.2em;}#sk-container-id-1 div.sk-label-container {text-align: center;}#sk-container-id-1 div.sk-container {/* jupyter's `normalize.less` sets `[hidden] { display: none; }` but bootstrap.min.css set `[hidden] { display: none !important; }` so we also need the `!important` here to be able to override the default hidden behavior on the sphinx rendered scikit-learn.org. See: https://github.com/scikit-learn/scikit-learn/issues/21755 */display: inline-block !important;position: relative;}#sk-container-id-1 div.sk-text-repr-fallback {display: none;}</style><div id=\"sk-container-id-1\" class=\"sk-top-container\"><div class=\"sk-text-repr-fallback\"><pre>KNeighborsClassifier(n_neighbors=10)</pre><b>In a Jupyter environment, please rerun this cell to show the HTML representation or trust the notebook. <br />On GitHub, the HTML representation is unable to render, please try loading this page with nbviewer.org.</b></div><div class=\"sk-container\" hidden><div class=\"sk-item\"><div class=\"sk-estimator sk-toggleable\"><input class=\"sk-toggleable__control sk-hidden--visually\" id=\"sk-estimator-id-1\" type=\"checkbox\" checked><label for=\"sk-estimator-id-1\" class=\"sk-toggleable__label sk-toggleable__label-arrow\">KNeighborsClassifier</label><div class=\"sk-toggleable__content\"><pre>KNeighborsClassifier(n_neighbors=10)</pre></div></div></div></div></div>"
      ],
      "text/plain": [
       "KNeighborsClassifier(n_neighbors=10)"
      ]
     },
     "execution_count": 4,
     "metadata": {},
     "output_type": "execute_result"
    }
   ],
   "source": [
    "#training the classifier #\n",
    "K = 10\n",
    "rf = KNeighborsClassifier(n_neighbors=K)\n",
    "#rf = RandomForestClassifier(n_estimators=100) \n",
    "rf.fit(X_train, y_train)"
   ]
  },
  {
   "cell_type": "markdown",
   "id": "9bc077e6",
   "metadata": {},
   "source": [
    "### Evaluate the classifier \n",
    "\n",
    "Print the error rate of the classifier on each data set."
   ]
  },
  {
   "cell_type": "code",
   "execution_count": 5,
   "id": "73dd8bc9-36fe-4889-b81e-3a7d116002b1",
   "metadata": {},
   "outputs": [
    {
     "name": "stdout",
     "output_type": "stream",
     "text": [
      "ERtrain = 0.029167638921297367\n",
      "ERval = 0.034599999999999964\n",
      "ERtest = 0.03300000000000003\n",
      "ERtest = 0.03300000000000003\n"
     ]
    }
   ],
   "source": [
    "probsTrain = rf.predict_proba(X_train)\n",
    "ERtrain = 1 - sum([1 * (y_train[i] == np.argmax(probsTrain[i])) for i in range(len(probsTrain))])/len(probsTrain)\n",
    "print(\"ERtrain =\", ERtrain)\n",
    "probsVal = rf.predict_proba(X_val)\n",
    "ERval = 1 - sum([1 * (y_val[i] == np.argmax(probsVal[i])) for i in range(len(probsVal))])/len(probsVal)\n",
    "print(\"ERval =\", ERval)\n",
    "probsTest = rf.predict_proba(X_test)\n",
    "ERtest = 1 - sum([1 * (y_test[i] == np.argmax(probsTest[i])) for i in range(len(probsTest))])/len(probsTest)\n",
    "print(\"ERtest =\", ERtest)\n",
    "\n",
    "probsTest = rf.predict_proba(X_test)\n",
    "ERtest = 1 - sum([1 * (y_test[i] == np.argmax(probsTest[i])) for i in range(len(probsTest))])/len(probsTest)\n",
    "print(\"ERtest =\", ERtest)"
   ]
  },
  {
   "cell_type": "markdown",
   "id": "c3cc6d37",
   "metadata": {},
   "source": [
    "### Train the localizer\n",
    "\n",
    "Compute the conformity scores and train a model, $g(f(X))$, that minimizes\n",
    "$$ {\\rm E} |A - g(f(X))|^2$$\n",
    "where $A = 1 - f_Y(X)$ and $f(X)\\in [0, 1]^{10}$ is the output of the classifier."
   ]
  },
  {
   "cell_type": "code",
   "execution_count": 7,
   "id": "ca19ad9b",
   "metadata": {},
   "outputs": [],
   "source": [
    "from sklearn.linear_model import LinearRegression\n",
    "from sklearn.neighbors import KNeighborsRegressor\n",
    "#training the localizer\n",
    "probsVal = rf.predict_proba(X_val)\n",
    "zVal = np.concatenate((X_val, probsVal), axis=1)\n",
    "Aval = np.array([1 - probsVal[i][y_val[i]] for i in range(len(y_val))])\n",
    "\n",
    "probsCal = rf.predict_proba(X_cal)\n",
    "zCal = np.concatenate((X_cal, probsCal), axis=1)\n",
    "Acal = np.array([1 - probsCal[i][y_cal[i]] for i in range(len(y_cal))])\n",
    "\n",
    "probsTest = rf.predict_proba(X_test)\n",
    "zTest = np.concatenate((X_test, probsTest), axis=1)\n",
    "\n",
    "def trainRegressor(K):\n",
    "    #g = RandomForestRegressor(n_estimators=100) \n",
    "    #g = LinearRegression()\n",
    "    g = KNeighborsRegressor(n_neighbors=K)\n",
    "    g.fit(zVal, Aval)\n",
    "    return g"
   ]
  },
  {
   "cell_type": "markdown",
   "id": "d74226dc",
   "metadata": {},
   "source": [
    "### Compute the quantiles\n",
    "\n",
    "Compute the quantiles of the original and transformed conformity scores on the calibration set. \n",
    "The transformed conformity score is \n",
    "$$ B = A - g(f(X))$$\n",
    "where $g$ is the trained localization function. Check the performance of $g$ by comparing its output with $A$."
   ]
  },
  {
   "cell_type": "code",
   "execution_count": 8,
   "id": "2cf17202",
   "metadata": {},
   "outputs": [
    {
     "name": "stdout",
     "output_type": "stream",
     "text": [
      "QA, QB 0.9 0.8\n"
     ]
    },
    {
     "data": {
      "image/png": "[encoded data removed]",
      "text/plain": [
       "<Figure size 640x480 with 1 Axes>"
      ]
     },
     "metadata": {},
     "output_type": "display_data"
    }
   ],
   "source": [
    "g = trainRegressor(K)\n",
    "AcalPredict = g.predict(zCal)\n",
    "Acal = np.array([1 - probsCal[i][y_cal[i]] for i in range(len(y_cal))])\n",
    "Bcal = Acal - AcalPredict\n",
    "plt.hist(Acal-AcalPredict, alpha=.5)\n",
    "plt.hist(Acal, alpha=.5)\n",
    "alpha = .01\n",
    "QB = np.sort(Bcal)[int(np.ceil((len(Bcal) + 1) * (1 - alpha)))]\n",
    "QA = np.sort(Acal)[int(np.ceil((len(Acal) + 1) * (1 - alpha)))]\n",
    "print(\"QA, QB\", QA, QB)"
   ]
  },
  {
   "cell_type": "markdown",
   "id": "7b6ff061",
   "metadata": {},
   "source": [
    "### Prediction sets\n",
    "\n",
    "Compute the prediction sets from $Q_A$ and $Q_B$ for all test samples.\n",
    "Let $n$ be\n",
    "1. a True Positive if $y \\in C_n$ and $y = y_n$,,\n",
    "2. a False Positive if $y \\in C_n$ but $y \\neq y_n$,\n",
    "3. a True Negative if $y \\notin C_n$ and $y \\neq y_n$, and\n",
    "4. a False Negative if $y \\notin C_n$ but $y \\neq y_n$.\n",
    "\n",
    "Compute the number of TP, FP, TN, and FN for $C_A$ and $C_B$ on all test samples.\n",
    "Print the cases for which $|C_A| \\neq |C_B|$. "
   ]
  },
  {
   "cell_type": "code",
   "execution_count": 11,
   "id": "8ad2a007",
   "metadata": {},
   "outputs": [
    {
     "name": "stdout",
     "output_type": "stream",
     "text": [
      "K, alpha, QA, QB, maxA, maxB 1 0.01 0.9 0.8 1.0 1.0\n",
      "K, alpha, QA, QB, maxA, maxB 1 0.05 0.5 0.30000000000000004 1.0 1.0\n",
      "K, alpha, QA, QB, maxA, maxB 1 0.09 0.19999999999999996 0.09999999999999998 1.0 1.0\n",
      "K, alpha, QA, QB, maxA, maxB 1 0.13 0.09999999999999998 0.09999999999999998 1.0 1.0\n",
      "K, alpha, QA, QB, maxA, maxB 1 0.17 0.09999999999999998 0.0 1.0 1.0\n",
      "K, alpha, QA, QB, maxA, maxB 16 0.01 0.9 0.7937500000000001 1.0 1.0\n",
      "K, alpha, QA, QB, maxA, maxB 16 0.05 0.5 0.3125 1.0 1.0\n",
      "K, alpha, QA, QB, maxA, maxB 16 0.09 0.19999999999999996 0.13749999999999996 1.0 1.0\n",
      "K, alpha, QA, QB, maxA, maxB 16 0.13 0.09999999999999998 0.07499999999999996 1.0 1.0\n",
      "K, alpha, QA, QB, maxA, maxB 16 0.17 0.09999999999999998 0.012499999999999983 1.0 1.0\n",
      "K, alpha, QA, QB, maxA, maxB 32 0.01 0.9 0.7937500000000001 1.0 1.0\n",
      "K, alpha, QA, QB, maxA, maxB 32 0.05 0.5 0.33125000000000004 1.0 1.0\n",
      "K, alpha, QA, QB, maxA, maxB 32 0.09 0.19999999999999996 0.14062500000000006 1.0 1.0\n",
      "K, alpha, QA, QB, maxA, maxB 32 0.13 0.09999999999999998 0.07187499999999994 1.0 1.0\n",
      "K, alpha, QA, QB, maxA, maxB 32 0.17 0.09999999999999998 0.015624999999999986 1.0 1.0\n"
     ]
    },
    {
     "data": {
      "image/png": "[encoded data removed]",
      "text/plain": [
       "<Figure size 640x480 with 1 Axes>"
      ]
     },
     "metadata": {},
     "output_type": "display_data"
    }
   ],
   "source": [
    "tryAlpha = [0.01 + 0.04 * i for i in range(5)]\n",
    "\n",
    "for K in [1, 16, 32]:\n",
    "    g = trainRegressor(K)\n",
    "    AcalPredict = g.predict(zCal)\n",
    "    Acal = np.array([1 - probsCal[i][y_cal[i]] for i in range(len(y_cal))])\n",
    "    Bcal = Acal - AcalPredict\n",
    "    auc = [], []\n",
    "    \n",
    "    for alpha in tryAlpha:#, 0.16, 0.32, 0.64, 0.9]:\n",
    "        QB = np.sort(Bcal)[int(np.ceil((len(Bcal) + 1) * (1 - alpha)))-1]\n",
    "        QA = np.sort(Acal)[int(np.ceil((len(Acal) + 1) * (1 - alpha)))-1]\n",
    "        print(\"K, alpha, QA, QB, maxA, maxB\", K, alpha, QA, QB, max(Acal), max(Bcal))\n",
    "        AtestPredict = g.predict(zTest)\n",
    "        Atest = np.array([[1 - probsTest[i][j] for j in range(len(probsTest[i]))] for i in range(len(probsTest))])\n",
    "        Btest = np.array([[1 - probsTest[i][j] - AtestPredict[i] for j in range(len(probsTest[i]))] for i in range(len(probsTest))]) \n",
    "        intervalsA = [[j for j in range(len(probsTest[i])) if Atest[i][j] <= QA] for i in range(len(probsTest))]\n",
    "        intervalsB = [[j for j in range(len(probsTest[i])) if Btest[i][j] <= QB] for i in range(len(probsTest))]\n",
    "\n",
    "        TP, FP, TN, FN = [0, 0], [0, 0],[0, 0], [0, 0]\n",
    "        intervalsAll = intervalsA, intervalsB\n",
    "        for iModel in [0, 1]:\n",
    "            for i in range(len(intervalsA)):\n",
    "                intervals = intervalsAll[iModel][i]\n",
    "                y = y_test[i]\n",
    "                positives = [j for j in range(10) if j in intervals]\n",
    "                TP[iModel] = TP[iModel] + sum([1 for j in positives if j == y])\n",
    "                FP[iModel] = FP[iModel] + sum([1 for j in positives if j != y])\n",
    "                negatives = [j for j in range(10) if j not in intervals]\n",
    "                TN[iModel] = TN[iModel] + sum([1 for j in negatives if j != y])  \n",
    "                FN[iModel] = FN[iModel] + sum([1 for j in negatives if j == y]) \n",
    "            F1 = 2 * TP[iModel]/(2 * TP[iModel] + FP[iModel] + FN[iModel])\n",
    "            auc[iModel].append(F1)\n",
    "    s = [np.round(sum([x for x in auc[iModel]]), 3) for iModel in [0, 1]]\n",
    "    if (K==1): \n",
    "        plt.plot(tryAlpha, [x for x in auc[0]], label='unweighted: sumF1='+str(s[0]),alpha=0.5)\n",
    "    plt.plot(tryAlpha, [x for x in auc[1]], label='weighted K='+str(K)+': sumF1='+str(s[1]) ,alpha=0.5)\n",
    "plt.legend()\n",
    "plt.show()\n"
   ]
  }
 ],
 "metadata": {
  "kernelspec": {
   "display_name": "Python 3 (ipykernel)",
   "language": "python",
   "name": "python3"
  },
  "language_info": {
   "codemirror_mode": {
    "name": "ipython",
    "version": 3
   },
   "file_extension": ".py",
   "mimetype": "text/x-python",
   "name": "python",
   "nbconvert_exporter": "python",
   "pygments_lexer": "ipython3",
   "version": "3.8.8"
  }
 },
 "nbformat": 4,
 "nbformat_minor": 5
}
