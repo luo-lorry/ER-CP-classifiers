{
 "cells": [
  {
   "cell_type": "code",
   "execution_count": 1,
   "id": "b0021b5c",
   "metadata": {},
   "outputs": [],
   "source": [
    "import numpy as np # linear algebra\n",
    "import pandas as pd\n",
    "import matplotlib.pyplot as plt  #Graphics\n",
    "from sklearn.ensemble import RandomForestClassifier  #Random Forest algorithm\n",
    "from sklearn.ensemble import RandomForestRegressor  #Random Forest algorithm\n",
    "from sklearn.model_selection import train_test_split"
   ]
  },
  {
   "cell_type": "markdown",
   "id": "b979058d",
   "metadata": {},
   "source": [
    "### Load the data\n",
    "\n",
    "Load the MNIST data set from two `.csv` files into two variables. \n",
    "Print the number of data points in the training and test sets.\n",
    "Print the number of object in eacsh class."
   ]
  },
  {
   "cell_type": "code",
   "execution_count": null,
   "id": "b7a341e6",
   "metadata": {},
   "outputs": [],
   "source": [
    "train = pd.read_csv(\"data/mnist_train.csv\")\n",
    "test = pd.read_csv(\"data/mnist_test.csv\")\n",
    "print (\"Training dataset has %i observations and %i variables\" %(train.shape[0], train.shape[1]))\n",
    "print (\"Testing dataset has %i observations and %i variables\" %(test.shape[0], test.shape[1]))\n",
    "#Seperate the target and independant variables\n",
    "df_x=train.iloc[:,1:]\n",
    "df_y=train.iloc[:,0]\n",
    "#Check the frequency of each number\n",
    "df_y.value_counts().sort_index()"
   ]
  },
  {
   "cell_type": "markdown",
   "id": "bbd7732f",
   "metadata": {},
   "source": [
    "### Slipt the data\n",
    "\n",
    "Split the training and test data into two equal parts. In total, we obtain four data sets, \n",
    "1. ${\\cal D}_{train}$ to train the classifier,\n",
    "2. ${\\cal D}_{val}$ to train the localization function, \n",
    "3. ${\\cal D}_{cal}$ to compute the quantiles,\n",
    "4. ${\\cal D}_{test}$ to evaluate the predictions sets."
   ]
  },
  {
   "cell_type": "code",
   "execution_count": 12,
   "id": "f934c413",
   "metadata": {},
   "outputs": [
    {
     "name": "stdout",
     "output_type": "stream",
     "text": [
      "train: (29999, 784)\n",
      "test: (5000, 784)\n"
     ]
    }
   ],
   "source": [
    "#Split the train dataset\n",
    "df_x=train.iloc[:,1:]\n",
    "df_y=train.iloc[:,0]\n",
    "X_train, X_val, y_train, y_val = train_test_split(df_x.to_numpy(dtype=float), \n",
    "                                                  df_y.to_numpy(dtype=int), test_size=0.5, random_state=0)\n",
    "#Split the train dataset\n",
    "df_x=test.iloc[:,1:]\n",
    "df_y=test.iloc[:,0]\n",
    "X_cal, X_test, y_cal, y_test = train_test_split(df_x.to_numpy(dtype=float), \n",
    "                                                df_y.to_numpy(dtype=int), test_size=0.5, random_state=0)\n",
    "print(\"train:\", X_train.shape)\n",
    "print(\"test:\", X_test.shape)"
   ]
  },
  {
   "cell_type": "markdown",
   "id": "43ad0cb2",
   "metadata": {},
   "source": [
    "### Train the classifier\n",
    "\n",
    "Train a Random Forest classifier on ${\\cal D}_{train}$."
   ]
  },
  {
   "cell_type": "code",
   "execution_count": 4,
   "id": "8700acbe",
   "metadata": {},
   "outputs": [
    {
     "data": {
      "text/html": [
       "<style>#sk-container-id-1 {color: black;}#sk-container-id-1 pre{padding: 0;}#sk-container-id-1 div.sk-toggleable {background-color: white;}#sk-container-id-1 label.sk-toggleable__label {cursor: pointer;display: block;width: 100%;margin-bottom: 0;padding: 0.3em;box-sizing: border-box;text-align: center;}#sk-container-id-1 label.sk-toggleable__label-arrow:before {content: \"▸\";float: left;margin-right: 0.25em;color: #696969;}#sk-container-id-1 label.sk-toggleable__label-arrow:hover:before {color: black;}#sk-container-id-1 div.sk-estimator:hover label.sk-toggleable__label-arrow:before {color: black;}#sk-container-id-1 div.sk-toggleable__content {max-height: 0;max-width: 0;overflow: hidden;text-align: left;background-color: #f0f8ff;}#sk-container-id-1 div.sk-toggleable__content pre {margin: 0.2em;color: black;border-radius: 0.25em;background-color: #f0f8ff;}#sk-container-id-1 input.sk-toggleable__control:checked~div.sk-toggleable__content {max-height: 200px;max-width: 100%;overflow: auto;}#sk-container-id-1 input.sk-toggleable__control:checked~label.sk-toggleable__label-arrow:before {content: \"▾\";}#sk-container-id-1 div.sk-estimator input.sk-toggleable__control:checked~label.sk-toggleable__label {background-color: #d4ebff;}#sk-container-id-1 div.sk-label input.sk-toggleable__control:checked~label.sk-toggleable__label {background-color: #d4ebff;}#sk-container-id-1 input.sk-hidden--visually {border: 0;clip: rect(1px 1px 1px 1px);clip: rect(1px, 1px, 1px, 1px);height: 1px;margin: -1px;overflow: hidden;padding: 0;position: absolute;width: 1px;}#sk-container-id-1 div.sk-estimator {font-family: monospace;background-color: #f0f8ff;border: 1px dotted black;border-radius: 0.25em;box-sizing: border-box;margin-bottom: 0.5em;}#sk-container-id-1 div.sk-estimator:hover {background-color: #d4ebff;}#sk-container-id-1 div.sk-parallel-item::after {content: \"\";width: 100%;border-bottom: 1px solid gray;flex-grow: 1;}#sk-container-id-1 div.sk-label:hover label.sk-toggleable__label {background-color: #d4ebff;}#sk-container-id-1 div.sk-serial::before {content: \"\";position: absolute;border-left: 1px solid gray;box-sizing: border-box;top: 0;bottom: 0;left: 50%;z-index: 0;}#sk-container-id-1 div.sk-serial {display: flex;flex-direction: column;align-items: center;background-color: white;padding-right: 0.2em;padding-left: 0.2em;position: relative;}#sk-container-id-1 div.sk-item {position: relative;z-index: 1;}#sk-container-id-1 div.sk-parallel {display: flex;align-items: stretch;justify-content: center;background-color: white;position: relative;}#sk-container-id-1 div.sk-item::before, #sk-container-id-1 div.sk-parallel-item::before {content: \"\";position: absolute;border-left: 1px solid gray;box-sizing: border-box;top: 0;bottom: 0;left: 50%;z-index: -1;}#sk-container-id-1 div.sk-parallel-item {display: flex;flex-direction: column;z-index: 1;position: relative;background-color: white;}#sk-container-id-1 div.sk-parallel-item:first-child::after {align-self: flex-end;width: 50%;}#sk-container-id-1 div.sk-parallel-item:last-child::after {align-self: flex-start;width: 50%;}#sk-container-id-1 div.sk-parallel-item:only-child::after {width: 0;}#sk-container-id-1 div.sk-dashed-wrapped {border: 1px dashed gray;margin: 0 0.4em 0.5em 0.4em;box-sizing: border-box;padding-bottom: 0.4em;background-color: white;}#sk-container-id-1 div.sk-label label {font-family: monospace;font-weight: bold;display: inline-block;line-height: 1.2em;}#sk-container-id-1 div.sk-label-container {text-align: center;}#sk-container-id-1 div.sk-container {/* jupyter's `normalize.less` sets `[hidden] { display: none; }` but bootstrap.min.css set `[hidden] { display: none !important; }` so we also need the `!important` here to be able to override the default hidden behavior on the sphinx rendered scikit-learn.org. See: https://github.com/scikit-learn/scikit-learn/issues/21755 */display: inline-block !important;position: relative;}#sk-container-id-1 div.sk-text-repr-fallback {display: none;}</style><div id=\"sk-container-id-1\" class=\"sk-top-container\"><div class=\"sk-text-repr-fallback\"><pre>RandomForestClassifier(n_estimators=50)</pre><b>In a Jupyter environment, please rerun this cell to show the HTML representation or trust the notebook. <br />On GitHub, the HTML representation is unable to render, please try loading this page with nbviewer.org.</b></div><div class=\"sk-container\" hidden><div class=\"sk-item\"><div class=\"sk-estimator sk-toggleable\"><input class=\"sk-toggleable__control sk-hidden--visually\" id=\"sk-estimator-id-1\" type=\"checkbox\" checked><label for=\"sk-estimator-id-1\" class=\"sk-toggleable__label sk-toggleable__label-arrow\">RandomForestClassifier</label><div class=\"sk-toggleable__content\"><pre>RandomForestClassifier(n_estimators=50)</pre></div></div></div></div></div>"
      ],
      "text/plain": [
       "RandomForestClassifier(n_estimators=50)"
      ]
     },
     "execution_count": 4,
     "metadata": {},
     "output_type": "execute_result"
    }
   ],
   "source": [
    "#training random Forest\n",
    "rf = RandomForestClassifier(n_estimators=50) \n",
    "rf.fit(X_train,y_train)"
   ]
  },
  {
   "cell_type": "markdown",
   "id": "20b1d71b",
   "metadata": {},
   "source": [
    "### Evaluate the classifier \n",
    "\n",
    "Print the error rate of the classifier on each data set."
   ]
  },
  {
   "cell_type": "code",
   "execution_count": 5,
   "id": "73dd8bc9-36fe-4889-b81e-3a7d116002b1",
   "metadata": {},
   "outputs": [
    {
     "name": "stdout",
     "output_type": "stream",
     "text": [
      "ERval = 0.03976666666666662\n",
      "ERtest = 0.03500000000000003\n"
     ]
    }
   ],
   "source": [
    "probsTrain = rf.predict_proba(X_train)\n",
    "ERtrain = 1 - sum([1 * (y_train[i] == np.argmax(probsTrain[i])) for i in range(len(probsTrain))])/len(probsTrain)\n",
    "print(\"ERtrain =\", ERtrain)\n",
    "probsVal = rf.predict_proba(X_val)\n",
    "ERval = 1 - sum([1 * (y_val[i] == np.argmax(probsVal[i])) for i in range(len(probsVal))])/len(probsVal)\n",
    "print(\"ERval =\", ERval)\n",
    "probsTest = rf.predict_proba(X_test)\n",
    "ERtest = 1 - sum([1 * (y_test[i] == np.argmax(probsTest[i])) for i in range(len(probsTest))])/len(probsTest)\n",
    "print(\"ERtest =\", ERtest)\n",
    "\n",
    "probsTest = rf.predict_proba(X_test)\n",
    "ERtest = 1 - sum([1 * (y_test[i] == np.argmax(probsTest[i])) for i in range(len(probsTest))])/len(probsTest)\n",
    "print(\"ERtest =\", ERtest)"
   ]
  },
  {
   "cell_type": "markdown",
   "id": "7bb76ae6",
   "metadata": {},
   "source": [
    "### Train the localizer\n",
    "\n",
    "Compute the conformity scores and train a model, $g(f(X))$, that minimizes\n",
    "$$ {\\rm E} |A - g(f(X))|^2$$\n",
    "where $A = 1 - f_Y(X)$ and $f(X)\\in [0, 1]^{10}$ is the output of the classifier."
   ]
  },
  {
   "cell_type": "code",
   "execution_count": 8,
   "id": "ca19ad9b",
   "metadata": {},
   "outputs": [
    {
     "data": {
      "text/html": [
       "<style>#sk-container-id-2 {color: black;}#sk-container-id-2 pre{padding: 0;}#sk-container-id-2 div.sk-toggleable {background-color: white;}#sk-container-id-2 label.sk-toggleable__label {cursor: pointer;display: block;width: 100%;margin-bottom: 0;padding: 0.3em;box-sizing: border-box;text-align: center;}#sk-container-id-2 label.sk-toggleable__label-arrow:before {content: \"▸\";float: left;margin-right: 0.25em;color: #696969;}#sk-container-id-2 label.sk-toggleable__label-arrow:hover:before {color: black;}#sk-container-id-2 div.sk-estimator:hover label.sk-toggleable__label-arrow:before {color: black;}#sk-container-id-2 div.sk-toggleable__content {max-height: 0;max-width: 0;overflow: hidden;text-align: left;background-color: #f0f8ff;}#sk-container-id-2 div.sk-toggleable__content pre {margin: 0.2em;color: black;border-radius: 0.25em;background-color: #f0f8ff;}#sk-container-id-2 input.sk-toggleable__control:checked~div.sk-toggleable__content {max-height: 200px;max-width: 100%;overflow: auto;}#sk-container-id-2 input.sk-toggleable__control:checked~label.sk-toggleable__label-arrow:before {content: \"▾\";}#sk-container-id-2 div.sk-estimator input.sk-toggleable__control:checked~label.sk-toggleable__label {background-color: #d4ebff;}#sk-container-id-2 div.sk-label input.sk-toggleable__control:checked~label.sk-toggleable__label {background-color: #d4ebff;}#sk-container-id-2 input.sk-hidden--visually {border: 0;clip: rect(1px 1px 1px 1px);clip: rect(1px, 1px, 1px, 1px);height: 1px;margin: -1px;overflow: hidden;padding: 0;position: absolute;width: 1px;}#sk-container-id-2 div.sk-estimator {font-family: monospace;background-color: #f0f8ff;border: 1px dotted black;border-radius: 0.25em;box-sizing: border-box;margin-bottom: 0.5em;}#sk-container-id-2 div.sk-estimator:hover {background-color: #d4ebff;}#sk-container-id-2 div.sk-parallel-item::after {content: \"\";width: 100%;border-bottom: 1px solid gray;flex-grow: 1;}#sk-container-id-2 div.sk-label:hover label.sk-toggleable__label {background-color: #d4ebff;}#sk-container-id-2 div.sk-serial::before {content: \"\";position: absolute;border-left: 1px solid gray;box-sizing: border-box;top: 0;bottom: 0;left: 50%;z-index: 0;}#sk-container-id-2 div.sk-serial {display: flex;flex-direction: column;align-items: center;background-color: white;padding-right: 0.2em;padding-left: 0.2em;position: relative;}#sk-container-id-2 div.sk-item {position: relative;z-index: 1;}#sk-container-id-2 div.sk-parallel {display: flex;align-items: stretch;justify-content: center;background-color: white;position: relative;}#sk-container-id-2 div.sk-item::before, #sk-container-id-2 div.sk-parallel-item::before {content: \"\";position: absolute;border-left: 1px solid gray;box-sizing: border-box;top: 0;bottom: 0;left: 50%;z-index: -1;}#sk-container-id-2 div.sk-parallel-item {display: flex;flex-direction: column;z-index: 1;position: relative;background-color: white;}#sk-container-id-2 div.sk-parallel-item:first-child::after {align-self: flex-end;width: 50%;}#sk-container-id-2 div.sk-parallel-item:last-child::after {align-self: flex-start;width: 50%;}#sk-container-id-2 div.sk-parallel-item:only-child::after {width: 0;}#sk-container-id-2 div.sk-dashed-wrapped {border: 1px dashed gray;margin: 0 0.4em 0.5em 0.4em;box-sizing: border-box;padding-bottom: 0.4em;background-color: white;}#sk-container-id-2 div.sk-label label {font-family: monospace;font-weight: bold;display: inline-block;line-height: 1.2em;}#sk-container-id-2 div.sk-label-container {text-align: center;}#sk-container-id-2 div.sk-container {/* jupyter's `normalize.less` sets `[hidden] { display: none; }` but bootstrap.min.css set `[hidden] { display: none !important; }` so we also need the `!important` here to be able to override the default hidden behavior on the sphinx rendered scikit-learn.org. See: https://github.com/scikit-learn/scikit-learn/issues/21755 */display: inline-block !important;position: relative;}#sk-container-id-2 div.sk-text-repr-fallback {display: none;}</style><div id=\"sk-container-id-2\" class=\"sk-top-container\"><div class=\"sk-text-repr-fallback\"><pre>RandomForestRegressor(n_estimators=50)</pre><b>In a Jupyter environment, please rerun this cell to show the HTML representation or trust the notebook. <br />On GitHub, the HTML representation is unable to render, please try loading this page with nbviewer.org.</b></div><div class=\"sk-container\" hidden><div class=\"sk-item\"><div class=\"sk-estimator sk-toggleable\"><input class=\"sk-toggleable__control sk-hidden--visually\" id=\"sk-estimator-id-2\" type=\"checkbox\" checked><label for=\"sk-estimator-id-2\" class=\"sk-toggleable__label sk-toggleable__label-arrow\">RandomForestRegressor</label><div class=\"sk-toggleable__content\"><pre>RandomForestRegressor(n_estimators=50)</pre></div></div></div></div></div>"
      ],
      "text/plain": [
       "RandomForestRegressor(n_estimators=50)"
      ]
     },
     "execution_count": 8,
     "metadata": {},
     "output_type": "execute_result"
    }
   ],
   "source": [
    "#training random Forest\n",
    "probsVal = rf.predict_proba(X_val)\n",
    "Aval = np.array([1 - probsVal[i][y_val[i]] for i in range(len(y_val))])\n",
    "g=RandomForestRegressor(n_estimators=50) \n",
    "g.fit(probsVal, Aval)"
   ]
  },
  {
   "cell_type": "markdown",
   "id": "a0d495be",
   "metadata": {},
   "source": [
    "### Compute the quantiles\n",
    "\n",
    "Compute the quantiles of the original and transformed conformity scores on the calibration set. \n",
    "The transformed conformity score is \n",
    "$$ B = A - g(f(X))$$\n",
    "where $g$ is the trained localization function. Check the performance of $g$ by comparing its output with $A$."
   ]
  },
  {
   "cell_type": "code",
   "execution_count": 13,
   "id": "2cf17202",
   "metadata": {},
   "outputs": [
    {
     "data": {
      "image/png": "[encoded data removed]",
      "text/plain": [
       "<Figure size 640x480 with 1 Axes>"
      ]
     },
     "metadata": {},
     "output_type": "display_data"
    }
   ],
   "source": [
    "probsCal = rf.predict_proba(X_cal)\n",
    "AcalPredict = g.predict(probsCal)\n",
    "y_cal = [int(y) for y in y_cal]\n",
    "Acal = np.array([1 - probsCal[i][y_cal[i]] for i in range(len(y_cal))])\n",
    "Bcal = Acal - AcalPredict\n",
    "plt.plot(Acal, AcalPredict, '*')\n",
    "alpha = .05\n",
    "QB = np.sort(Bcal)[int(np.ceil((len(Bcal) + 1) * (1 - alpha)))]\n",
    "QA = np.sort(Acal)[int(np.ceil((len(Acal) + 1) * (1 - alpha)))]\n",
    "\n"
   ]
  },
  {
   "cell_type": "markdown",
   "id": "b3574fee",
   "metadata": {},
   "source": [
    "### Prediction sets\n",
    "\n",
    "Compute the prediction sets from $Q_A$ and $Q_B$ for all test samples.\n",
    "Let $n$ be\n",
    "1. a True Positive if $y \\in C_n$ and $y = y_n$,,\n",
    "2. a False Positive if $y \\in C_n$ but $y \\neq y_n$,\n",
    "3. a True Negative if $y \\notin C_n$ and $y \\neq y_n$, and\n",
    "4. a False Negative if $y \\notin C_n$ but $y \\neq y_n$.\n",
    "\n",
    "Compute the number of TP, FP, TN, and FN for $C_A$ and $ "
   ]
  },
  {
   "cell_type": "code",
   "execution_count": 11,
   "id": "0beec3e1",
   "metadata": {},
   "outputs": [
    {
     "name": "stdout",
     "output_type": "stream",
     "text": [
      "(5000, 10)\n",
      "(5000, 10)\n",
      "TP= [557, 555]\n",
      "FP= [4446, 4419]\n",
      "TN= [39944, 39971]\n",
      "FN= [5053, 5055]\n",
      "ER: 0.965\n",
      "CA, CB, y:  [3, 8] [3] 3\n",
      "CA, CB, y:  [4, 6] [] 6\n",
      "CA, CB, y:  [9] [3, 9] 7\n",
      "CA, CB, y:  [] [5] 3\n",
      "CA, CB, y:  [] [2, 8] 8\n",
      "CA, CB, y:  [4, 9] [9] 4\n",
      "CA, CB, y:  [] [8] 8\n",
      "CA, CB, y:  [9] [8, 9] 8\n",
      "CA, CB, y:  [] [2, 8] 9\n",
      "CA, CB, y:  [3] [] 3\n",
      "CA, CB, y:  [] [5] 6\n",
      "CA, CB, y:  [] [6] 6\n",
      "CA, CB, y:  [2] [] 2\n",
      "CA, CB, y:  [2, 7] [] 2\n",
      "CA, CB, y:  [] [1, 3, 8] 8\n",
      "CA, CB, y:  [5] [3, 5] 5\n",
      "CA, CB, y:  [1, 7] [] 7\n",
      "CA, CB, y:  [] [1] 1\n",
      "CA, CB, y:  [3, 5] [3] 3\n",
      "CA, CB, y:  [2] [] 2\n",
      "CA, CB, y:  [7] [] 7\n",
      "CA, CB, y:  [3, 5] [5] 5\n",
      "CA, CB, y:  [4, 6] [] 6\n",
      "CA, CB, y:  [] [8, 9] 8\n",
      "CA, CB, y:  [2] [] 2\n",
      "CA, CB, y:  [] [3, 5] 3\n",
      "CA, CB, y:  [7, 9] [7] 7\n",
      "CA, CB, y:  [] [8] 7\n",
      "CA, CB, y:  [5, 9] [5] 5\n",
      "CA, CB, y:  [3, 5] [3] 3\n",
      "CA, CB, y:  [2, 8] [2] 2\n",
      "CA, CB, y:  [1] [] 1\n",
      "CA, CB, y:  [2] [2, 3] 2\n",
      "CA, CB, y:  [0] [] 0\n",
      "CA, CB, y:  [] [9] 9\n",
      "CA, CB, y:  [] [2] 0\n",
      "CA, CB, y:  [2, 7] [7] 7\n",
      "CA, CB, y:  [3, 5] [3] 3\n",
      "CA, CB, y:  [0] [] 0\n",
      "CA, CB, y:  [] [8, 9] 9\n",
      "CA, CB, y:  [9] [5, 9] 5\n",
      "CA, CB, y:  [9] [] 7\n",
      "CA, CB, y:  [] [8] 8\n",
      "CA, CB, y:  [2, 7] [7] 7\n",
      "CA, CB, y:  [] [3] 3\n",
      "CA, CB, y:  [0] [0, 2] 2\n",
      "CA, CB, y:  [] [2, 5] 8\n",
      "CA, CB, y:  [4, 9] [4] 4\n",
      "CA, CB, y:  [] [5] 6\n",
      "CA, CB, y:  [4] [] 4\n",
      "CA, CB, y:  [] [8, 9] 4\n",
      "CA, CB, y:  [] [3] 3\n",
      "CA, CB, y:  [] [5, 9] 9\n",
      "CA, CB, y:  [2, 6] [2] 2\n",
      "CA, CB, y:  [] [2, 6] 2\n",
      "CA, CB, y:  [7, 9] [7] 7\n",
      "CA, CB, y:  [] [8] 8\n",
      "CA, CB, y:  [4, 9] [4] 4\n",
      "CA, CB, y:  [3] [] 3\n",
      "CA, CB, y:  [2] [1, 2] 1\n",
      "CA, CB, y:  [] [4] 4\n",
      "CA, CB, y:  [3] [] 3\n",
      "CA, CB, y:  [2] [] 2\n",
      "CA, CB, y:  [3, 5] [3] 3\n",
      "CA, CB, y:  [7, 9] [7] 7\n",
      "CA, CB, y:  [3, 5] [5] 5\n",
      "CA, CB, y:  [] [8, 9] 8\n",
      "CA, CB, y:  [] [5, 8] 5\n",
      "CA, CB, y:  [3] [] 3\n",
      "CA, CB, y:  [7] [] 7\n",
      "CA, CB, y:  [] [5, 8, 9] 9\n",
      "CA, CB, y:  [0] [] 0\n",
      "CA, CB, y:  [4, 9] [4] 4\n",
      "CA, CB, y:  [1] [] 1\n",
      "CA, CB, y:  [0, 9] [9] 9\n",
      "CA, CB, y:  [1] [] 6\n",
      "CA, CB, y:  [] [4, 7] 3\n",
      "CA, CB, y:  [7] [] 7\n",
      "CA, CB, y:  [0] [] 0\n",
      "CA, CB, y:  [] [3] 8\n",
      "CA, CB, y:  [0] [] 0\n",
      "CA, CB, y:  [6] [] 6\n",
      "CA, CB, y:  [2] [] 2\n",
      "CA, CB, y:  [] [2, 3, 8] 8\n",
      "CA, CB, y:  [] [5] 5\n",
      "CA, CB, y:  [1] [] 1\n",
      "CA, CB, y:  [3] [] 3\n",
      "CA, CB, y:  [6] [] 0\n",
      "CA, CB, y:  [0, 6] [] 6\n",
      "CA, CB, y:  [4, 9] [9] 4\n",
      "CA, CB, y:  [0] [] 0\n",
      "CA, CB, y:  [] [8] 9\n",
      "CA, CB, y:  [] [7, 8] 8\n",
      "CA, CB, y:  [] [4, 5] 8\n",
      "CA, CB, y:  [8, 9] [8] 8\n",
      "CA, CB, y:  [] [2, 9] 2\n",
      "CA, CB, y:  [4, 9] [4] 4\n",
      "CA, CB, y:  [] [3] 3\n",
      "CA, CB, y:  [1] [] 1\n",
      "CA, CB, y:  [9] [] 9\n",
      "CA, CB, y:  [4, 9] [9] 9\n",
      "CA, CB, y:  [3, 5] [3] 3\n",
      "CA, CB, y:  [7] [] 7\n",
      "CA, CB, y:  [6] [] 6\n",
      "CA, CB, y:  [2, 7] [] 2\n",
      "CA, CB, y:  [6] [] 6\n",
      "CA, CB, y:  [] [7] 2\n",
      "CA, CB, y:  [7] [] 7\n",
      "CA, CB, y:  [7] [] 7\n",
      "CA, CB, y:  [0, 6] [0] 0\n",
      "CA, CB, y:  [3] [3, 5] 9\n",
      "CA, CB, y:  [1, 7] [] 7\n",
      "CA, CB, y:  [3, 5] [3] 3\n",
      "CA, CB, y:  [3, 5] [3] 3\n",
      "CA, CB, y:  [] [2] 7\n",
      "CA, CB, y:  [] [4, 8] 8\n",
      "CA, CB, y:  [9] [7, 9] 7\n",
      "CA, CB, y:  [2, 4] [4] 2\n",
      "CA, CB, y:  [3, 5] [5] 5\n",
      "CA, CB, y:  [4, 9] [9] 9\n",
      "CA, CB, y:  [6] [] 6\n",
      "CA, CB, y:  [5, 6] [6] 6\n",
      "CA, CB, y:  [] [3, 5] 9\n",
      "CA, CB, y:  [2, 3] [] 3\n",
      "CA, CB, y:  [] [5] 9\n",
      "CA, CB, y:  [3, 8] [8] 2\n",
      "CA, CB, y:  [] [3, 5, 9] 9\n",
      "CA, CB, y:  [] [4, 9] 4\n",
      "CA, CB, y:  [] [5, 8] 8\n",
      "CA, CB, y:  [] [7] 7\n",
      "CA, CB, y:  [1] [] 1\n",
      "CA, CB, y:  [0] [] 0\n",
      "CA, CB, y:  [] [8] 8\n",
      "CA, CB, y:  [] [8, 9] 9\n",
      "CA, CB, y:  [0] [] 0\n",
      "CA, CB, y:  [] [8] 1\n",
      "CA, CB, y:  [3, 5] [3] 3\n",
      "CA, CB, y:  [] [4, 8] 4\n",
      "CA, CB, y:  [6] [] 6\n",
      "CA, CB, y:  [] [1] 1\n",
      "CA, CB, y:  [3, 5] [5] 5\n",
      "CA, CB, y:  [] [5] 9\n",
      "CA, CB, y:  [3, 5] [5] 5\n",
      "CA, CB, y:  [] [4] 8\n",
      "CA, CB, y:  [9] [] 9\n",
      "CA, CB, y:  [] [4, 6] 4\n",
      "CA, CB, y:  [] [3] 3\n",
      "CA, CB, y:  [7] [] 7\n",
      "CA, CB, y:  [4, 9] [9] 9\n",
      "CA, CB, y:  [] [2, 4] 2\n",
      "CA, CB, y:  [] [5] 5\n",
      "CA, CB, y:  [3] [] 3\n",
      "CA, CB, y:  [9] [] 9\n",
      "CA, CB, y:  [9] [] 9\n",
      "CA, CB, y:  [] [2, 3] 2\n",
      "CA, CB, y:  [4, 9] [9] 4\n",
      "CA, CB, y:  [0, 6] [] 6\n",
      "CA, CB, y:  [5] [0, 5] 6\n",
      "CA, CB, y:  [6] [] 6\n",
      "CA, CB, y:  [2, 6] [6] 2\n",
      "CA, CB, y:  [9] [] 9\n",
      "CA, CB, y:  [3, 5] [3] 3\n",
      "CA, CB, y:  [2, 7] [7] 2\n",
      "CA, CB, y:  [7] [] 7\n",
      "CA, CB, y:  [] [1, 3] 1\n",
      "CA, CB, y:  [2, 3] [3] 3\n",
      "CA, CB, y:  [0] [] 0\n",
      "CA, CB, y:  [9] [4, 9] 9\n",
      "CA, CB, y:  [7] [] 7\n",
      "CA, CB, y:  [3] [] 3\n",
      "CA, CB, y:  [5] [3, 5] 5\n",
      "CA, CB, y:  [1] [] 6\n",
      "CA, CB, y:  [0] [] 0\n",
      "CA, CB, y:  [4, 9] [9] 9\n",
      "CA, CB, y:  [3, 5] [5] 5\n",
      "CA, CB, y:  [] [4] 5\n",
      "CA, CB, y:  [6] [] 4\n",
      "CA, CB, y:  [] [2] 7\n",
      "CA, CB, y:  [7, 9] [7] 7\n",
      "CA, CB, y:  [4, 9] [9] 9\n",
      "CA, CB, y:  [0, 3] [] 3\n",
      "CA, CB, y:  [] [4] 8\n",
      "CA, CB, y:  [1, 2] [] 6\n",
      "CA, CB, y:  [0] [] 0\n",
      "CA, CB, y:  [4] [] 4\n",
      "CA, CB, y:  [7] [] 7\n",
      "CA, CB, y:  [1, 3] [] 1\n",
      "CA, CB, y:  [1] [] 1\n",
      "CA, CB, y:  [] [5, 8] 9\n",
      "CA, CB, y:  [0] [] 0\n",
      "CA, CB, y:  [] [8] 6\n",
      "CA, CB, y:  [] [2, 6] 5\n",
      "CA, CB, y:  [] [8] 8\n",
      "CA, CB, y:  [6] [] 6\n",
      "CA, CB, y:  [] [4, 8] 4\n",
      "CA, CB, y:  [] [4] 4\n",
      "CA, CB, y:  [0] [] 0\n",
      "CA, CB, y:  [] [0, 2, 3] 3\n",
      "CA, CB, y:  [] [1] 1\n",
      "CA, CB, y:  [4, 9] [9] 4\n",
      "CA, CB, y:  [4, 6] [] 6\n",
      "CA, CB, y:  [] [6] 8\n",
      "CA, CB, y:  [4, 9] [4] 4\n",
      "CA, CB, y:  [8] [5, 8] 5\n",
      "CA, CB, y:  [4] [] 2\n",
      "CA, CB, y:  [6] [] 6\n",
      "CA, CB, y:  [] [3] 5\n",
      "CA, CB, y:  [] [2] 2\n",
      "CA, CB, y:  [6] [] 6\n",
      "CA, CB, y:  [] [3, 5, 6] 3\n",
      "CA, CB, y:  [0, 6] [] 6\n",
      "CA, CB, y:  [] [4] 4\n",
      "CA, CB, y:  [3, 5] [5] 5\n",
      "CA, CB, y:  [] [2] 9\n",
      "CA, CB, y:  [2] [] 2\n",
      "CA, CB, y:  [4, 9] [4] 9\n",
      "CA, CB, y:  [0] [] 0\n",
      "CA, CB, y:  [4, 9] [9] 4\n",
      "CA, CB, y:  [3, 5] [3] 5\n",
      "CA, CB, y:  [1] [] 1\n",
      "CA, CB, y:  [4, 9] [4] 4\n",
      "CA, CB, y:  [4, 9] [9] 9\n",
      "CA, CB, y:  [7, 9] [7] 7\n",
      "CA, CB, y:  [5, 6] [6] 6\n",
      "CA, CB, y:  [] [3] 2\n",
      "CA, CB, y:  [] [2, 8] 2\n",
      "CA, CB, y:  [0, 3] [] 5\n",
      "CA, CB, y:  [3, 5] [5] 3\n",
      "CA, CB, y:  [] [3, 5, 7] 5\n",
      "CA, CB, y:  [7] [] 7\n",
      "CA, CB, y:  [6] [] 6\n",
      "CA, CB, y:  [7, 9] [9] 7\n",
      "CA, CB, y:  [2, 7] [7] 7\n",
      "CA, CB, y:  [3, 5] [5] 5\n",
      "CA, CB, y:  [3, 5] [3] 3\n",
      "CA, CB, y:  [4, 9] [4] 4\n",
      "CA, CB, y:  [3, 8] [3] 3\n",
      "CA, CB, y:  [] [5] 9\n",
      "CA, CB, y:  [7, 9] [7] 7\n",
      "CA, CB, y:  [7, 9] [7] 7\n",
      "CA, CB, y:  [] [5] 5\n",
      "CA, CB, y:  [1, 8] [8] 8\n",
      "CA, CB, y:  [9] [7, 9] 8\n",
      "CA, CB, y:  [] [8, 9] 8\n",
      "CA, CB, y:  [1, 8] [] 9\n",
      "CA, CB, y:  [] [7] 2\n",
      "CA, CB, y:  [7, 9] [7] 7\n",
      "CA, CB, y:  [3] [] 3\n",
      "CA, CB, y:  [] [5] 5\n",
      "CA, CB, y:  [4, 9] [4] 4\n",
      "CA, CB, y:  [4] [] 4\n"
     ]
    }
   ],
   "source": [
    "probsTest = rf.predict_proba(X_test)\n",
    "AtestPredict = g.predict(probsTest)\n",
    "y_test = [int(y) for y in y_test]\n",
    "Atest = np.array([[1 - probsTest[i][j] for j in range(len(probsTest[i]))] for i in range(len(probsTest))])\n",
    "Btest = np.array([[1 - probsTest[i][j] - AtestPredict[i] for j in range(len(probsTest[i]))] for i in range(len(probsTest))]) \n",
    "print(Atest.shape)\n",
    "print(Btest.shape)\n",
    "intervalsA = [[j for j in range(len(probsTest[i])) if Atest[i][j] <= QA] for i in range(len(probsTest))]\n",
    "intervalsB = [[j for j in range(len(probsTest[i])) if Btest[i][j] <= QB] for i in range(len(probsTest))]\n",
    "\n",
    "TP, FP, TN, FN = [0, 0], [0, 0],[0, 0], [0, 0]\n",
    "for i in range(len(intervalsA)):\n",
    "    intervals = intervalsA[i], intervalsB[i]\n",
    "    y = y_test[i]\n",
    "    for iModel in [0, 1]:\n",
    "        positives = [1 for j in range(10) if j in intervals[iModel]]\n",
    "        TP[iModel] = TP[iModel] + sum([1 for j in positives if j == y])\n",
    "        FP[iModel] = FP[iModel] + sum([1 for j in positives if j != y])\n",
    "        negatives = [1 for j in range(10) if j not in intervals[iModel]]\n",
    "        TN[iModel] = TN[iModel] + sum([1 for j in negatives if j != y]) \n",
    "        FN[iModel] = FN[iModel] + sum([1 for j in negatives if j == y]) \n",
    "print(\"TP=\", TP)\n",
    "print(\"FP=\", FP)\n",
    "print(\"TN=\", TN)\n",
    "print(\"FN=\", FN)\n",
    "ERtest = sum([1 * (y_test[i] == np.argmax(probsTest[i])) for i in range(len(probsTest))])/len(probsTest)\n",
    "print(\"ER:\", ERtest)\n",
    "\n",
    "for i in range(len(intervalsA)):\n",
    "    if (len(intervalsA[i]) != len(intervalsB[i])):\n",
    "        print(\"CA, CB, y: \", intervalsA[i], intervalsB[i], y_test[i])\n"
   ]
  },
  {
   "cell_type": "code",
   "execution_count": 34,
   "id": "8ad2a007",
   "metadata": {},
   "outputs": [
    {
     "data": {
      "text/plain": [
       "[<matplotlib.lines.Line2D at 0x27f2582e520>]"
      ]
     },
     "execution_count": 34,
     "metadata": {},
     "output_type": "execute_result"
    },
    {
     "data": {
      "image/png": "[encoded data removed]",
      "text/plain": [
       "<Figure size 640x480 with 1 Axes>"
      ]
     },
     "metadata": {},
     "output_type": "display_data"
    }
   ],
   "source": [
    "plt.plot(A - Apredict)"
   ]
  },
  {
   "cell_type": "code",
   "execution_count": 61,
   "id": "24cc8173",
   "metadata": {},
   "outputs": [
    {
     "name": "stdout",
     "output_type": "stream",
     "text": [
      "(1000, 1)\n"
     ]
    },
    {
     "data": {
      "image/png": "[encoded data removed]",
      "text/plain": [
       "<Figure size 640x480 with 1 Axes>"
      ]
     },
     "metadata": {},
     "output_type": "display_data"
    }
   ],
   "source": [
    "# from scipy.stats import norm\n",
    "from sklearn.neighbors import KernelDensity\n",
    "colors = [\"navy\", \"cornflowerblue\", \"darkorange\"]\n",
    "kernels = [\"gaussian\"]#, \"tophat\", \"epanechnikov\"]\n",
    "lw = 2\n",
    "\n",
    "N = 400\n",
    "B = A - Apredict\n",
    "b = B[:N].reshape(N, 1)\n",
    "a = numpy.array(A[:N]).reshape(N, 1)\n",
    "\n",
    "X_plot = np.linspace(5 * min(b), 5 * max(b), 1000).reshape(1000, 1)\n",
    "print(X_plot.shape)\n",
    "\n",
    "lines = [\"-\", \"--\"]\n",
    "names = [\"A\", \"B\"]\n",
    "for iSamples in [0, 1]:\n",
    "    for color, kernel in zip(colors, kernels):\n",
    "        if iSamples:\n",
    "            kde = KernelDensity(kernel=kernel, bandwidth=0.1).fit(b)\n",
    "        else:\n",
    "            kde = KernelDensity(kernel=kernel, bandwidth=0.1).fit(a)\n",
    "        log_dens = kde.score_samples(X_plot)\n",
    "        plt.plot(\n",
    "            X_plot[:, 0],\n",
    "            np.exp(log_dens),\n",
    "            color=color,\n",
    "            lw=lw,\n",
    "            linestyle=lines[iSamples],\n",
    "            label=names[iSamples]+\"kernel = '{0}'\".format(kernel),\n",
    "        )\n",
    "\n",
    "plt.text(6, 0.38, \"N={0} points\".format(N))\n",
    "\n",
    "plt.legend(loc=\"upper left\")\n",
    "plt.plot(b[:, 0], -0.005 - 0.01 * np.random.random(b.shape[0]), \"+k\")\n",
    "\n",
    "plt.xlim(-1, 1)\n",
    "plt.ylim(-0.02, 6)\n",
    "plt.show()"
   ]
  },
  {
   "cell_type": "code",
   "execution_count": null,
   "id": "0f1ba574-78e8-4d2b-9401-fa3d03a42b46",
   "metadata": {},
   "outputs": [],
   "source": [
    "numpy.random.seed(1234)\n",
    "N = 20\n",
    "R = 100\n",
    "eps= .6\n",
    "\n",
    "p1, p2 = 0, 0\n",
    "\n",
    "def linearModel(x, w):\n",
    "    return x @ w\n",
    "    \n",
    "def sigmoid(t):\n",
    "    return 1/(1 + numpy.exp(-t))\n",
    "\n",
    "\n",
    "maxDist = 8\n",
    "Xd = maxDist * numpy.array([.01 + x/R for x in range(R)]).reshape([R, 1])\n",
    "maxPrice = 10\n",
    "Xp = maxPrice * numpy.array([.01 + x/R for x in range(R)]).reshape([R, 1])\n",
    "\n",
    "#data shuffling\n",
    "shuffle = numpy.random.choice(len(Xd), size=len(Xd)) \n",
    "Xps = Xp[shuffle]\n",
    "Z = numpy.concatenate((numpy.power(Xd, 0), Xd, Xps), axis=1)\n",
    "Z2 = numpy.concatenate((numpy.power(Xd, 0), Xd, Xps, Xd * Xps), axis=1)\n",
    "wSold = [-3, .2, .1 , 0.3]\n",
    "S2 = linearModel(Z2, wSold)\n",
    "sold = ((sigmoid(S2) + abs(S2) * eps * numpy.random.randn())> 1/2) * 1\n",
    "choice = numpy.random.choice(R, size=N, replace =False)\n",
    "Zdata = Z[choice]\n",
    "Z2data = Z2[choice]\n",
    "S2data = S2[choice]\n",
    "soldData = sold[choice]\n",
    "markers = ['bo' if x else 'ro' for x in soldData]\n",
    "unsoldIndexes = [i for i in range(len(soldData)) if soldData[i]]\n",
    "soldIndexes = [i for i in range(len(soldData)) if soldData[i] == 0]\n",
    "#grid\n",
    "Grid = numpy.concatenate([numpy.concatenate((numpy.power(Xd, 0), xd * numpy.ones([len(Xd), 1]), Xp, xd * Xp), axis=1) for xd in Xd], axis = 0)\n",
    "print(Grid.shape)\n",
    "Sgrid = linearModel(Grid, wSold)\n",
    "soldGrid = ((sigmoid(Sgrid))> 1/2) * 1\n",
    "unsoldIndGrid = [i for i in range(len(soldGrid)) if soldGrid[i]]\n",
    "soldIndGrid = [i for i in range(len(soldGrid)) if soldGrid[i] == 0]\n",
    "\n",
    "if p2:\n",
    "    plt.xticks([])\n",
    "    plt.yticks([])\n",
    "    plt.xlabel('distance from the city centre')\n",
    "    plt.ylabel('price')\n",
    "    plt.plot(Grid[soldIndGrid, 1], Grid[soldIndGrid, 2], 'bo', alpha=.4, \n",
    "            label='unknown model (sold)')\n",
    "    plt.plot(Grid[unsoldIndGrid, 1], Grid[unsoldIndGrid, 2], 'ro', alpha=.4, \n",
    "            label='unknown model (unsold)')\n",
    "\n",
    "    plt.plot(Zdata[soldIndexes, 1], Zdata[soldIndexes, 2], '*k', alpha=.9, \n",
    "            label='sold houses')\n",
    "    plt.plot(Zdata[unsoldIndexes, 1], Zdata[unsoldIndexes, 2], 'ok', alpha=.9, \n",
    "            label='unsold houses')\n",
    "\n",
    "    plt.legend()\n",
    "    plt.savefig('pics/w4logisticDataGrid.pdf')\n",
    "    plt.show()\n",
    "\n",
    "\n"
   ]
  },
  {
   "cell_type": "code",
   "execution_count": 8,
   "id": "9f88f998-9221-4ae6-9ffa-52c886207bbd",
   "metadata": {},
   "outputs": [
    {
     "ename": "ValueError",
     "evalue": "operands could not be broadcast together with shapes (20,20) (20,2) ",
     "output_type": "error",
     "traceback": [
      "\u001b[1;31m---------------------------------------------------------------------------\u001b[0m",
      "\u001b[1;31mValueError\u001b[0m                                Traceback (most recent call last)",
      "Cell \u001b[1;32mIn[8], line 13\u001b[0m\n\u001b[0;32m     11\u001b[0m ZfData \u001b[38;5;241m=\u001b[39m XfData, YfData\n\u001b[0;32m     12\u001b[0m w0 \u001b[38;5;241m=\u001b[39m numpy\u001b[38;5;241m.\u001b[39mrandom\u001b[38;5;241m.\u001b[39mrandn(\u001b[38;5;241m2\u001b[39m)\n\u001b[1;32m---> 13\u001b[0m f, df \u001b[38;5;241m=\u001b[39m \u001b[43mloglikelihood\u001b[49m\u001b[43m(\u001b[49m\u001b[43mw0\u001b[49m\u001b[43m,\u001b[49m\u001b[43m \u001b[49m\u001b[43mZfData\u001b[49m\u001b[43m)\u001b[49m\n\u001b[0;32m     14\u001b[0m \u001b[38;5;28mprint\u001b[39m(f, df)\n",
      "Cell \u001b[1;32mIn[8], line 6\u001b[0m, in \u001b[0;36mloglikelihood\u001b[1;34m(w, Z)\u001b[0m\n\u001b[0;32m      4\u001b[0m Fprime \u001b[38;5;241m=\u001b[39m F \u001b[38;5;241m*\u001b[39m (\u001b[38;5;241m1\u001b[39m \u001b[38;5;241m-\u001b[39m F)\n\u001b[0;32m      5\u001b[0m f \u001b[38;5;241m=\u001b[39m \u001b[38;5;241m-\u001b[39m numpy\u001b[38;5;241m.\u001b[39mlog(Y \u001b[38;5;241m*\u001b[39m F \u001b[38;5;241m+\u001b[39m (\u001b[38;5;241m1\u001b[39m \u001b[38;5;241m-\u001b[39m Y) \u001b[38;5;241m*\u001b[39m (\u001b[38;5;241m1\u001b[39m \u001b[38;5;241m-\u001b[39m F) )\n\u001b[1;32m----> 6\u001b[0m df \u001b[38;5;241m=\u001b[39m \u001b[38;5;241;43m-\u001b[39;49m\u001b[38;5;241;43m1\u001b[39;49m\u001b[38;5;241;43m/\u001b[39;49m\u001b[43m(\u001b[49m\u001b[43mY\u001b[49m\u001b[43m \u001b[49m\u001b[38;5;241;43m*\u001b[39;49m\u001b[43m \u001b[49m\u001b[43mF\u001b[49m\u001b[43m \u001b[49m\u001b[38;5;241;43m+\u001b[39;49m\u001b[43m \u001b[49m\u001b[43m(\u001b[49m\u001b[38;5;241;43m1\u001b[39;49m\u001b[43m \u001b[49m\u001b[38;5;241;43m-\u001b[39;49m\u001b[43m \u001b[49m\u001b[43mY\u001b[49m\u001b[43m)\u001b[49m\u001b[43m \u001b[49m\u001b[38;5;241;43m*\u001b[39;49m\u001b[43m \u001b[49m\u001b[43m(\u001b[49m\u001b[38;5;241;43m1\u001b[39;49m\u001b[43m \u001b[49m\u001b[38;5;241;43m-\u001b[39;49m\u001b[43m \u001b[49m\u001b[43mF\u001b[49m\u001b[43m)\u001b[49m\u001b[43m \u001b[49m\u001b[43m)\u001b[49m\u001b[43m \u001b[49m\u001b[38;5;241;43m*\u001b[39;49m\u001b[43m \u001b[49m\u001b[43m(\u001b[49m\u001b[38;5;241;43m2\u001b[39;49m\u001b[43m \u001b[49m\u001b[38;5;241;43m*\u001b[39;49m\u001b[43m \u001b[49m\u001b[43mY\u001b[49m\u001b[43m \u001b[49m\u001b[38;5;241;43m-\u001b[39;49m\u001b[43m \u001b[49m\u001b[38;5;241;43m1\u001b[39;49m\u001b[43m)\u001b[49m\u001b[43m \u001b[49m\u001b[38;5;241;43m*\u001b[39;49m\u001b[43m \u001b[49m\u001b[43mFprime\u001b[49m\u001b[43m \u001b[49m\u001b[38;5;241;43m*\u001b[39;49m\u001b[43m \u001b[49m\u001b[43mX\u001b[49m\n\u001b[0;32m      7\u001b[0m \u001b[38;5;28;01mreturn\u001b[39;00m f, df\n",
      "\u001b[1;31mValueError\u001b[0m: operands could not be broadcast together with shapes (20,20) (20,2) "
     ]
    }
   ],
   "source": [
    "def loglikelihood(w, Z):\n",
    "    X, Y = Z\n",
    "    F = sigmoid(linearModel(X, w))\n",
    "    Fprime = F * (1 - F)\n",
    "    f = - numpy.log(Y * F + (1 - Y) * (1 - F) )\n",
    "    df = -1/(Y * F + (1 - Y) * (1 - F) ) * (2 * Y - 1) * Fprime * X\n",
    "    return f, df\n",
    "\n",
    "XfData = Zdata[:, :2]\n",
    "YfData = soldData.reshape([len(YfData), 1]) \n",
    "ZfData = XfData, YfData\n",
    "w0 = numpy.random.randn(2)\n",
    "f, df = loglikelihood(w0, ZfData)\n",
    "print(f, df)\n"
   ]
  },
  {
   "cell_type": "code",
   "execution_count": null,
   "id": "177cdca2-0854-4560-aa2c-36a2bebeb2cd",
   "metadata": {},
   "outputs": [],
   "source": []
  }
 ],
 "metadata": {
  "kernelspec": {
   "display_name": "Python 3 (ipykernel)",
   "language": "python",
   "name": "python3"
  },
  "language_info": {
   "codemirror_mode": {
    "name": "ipython",
    "version": 3
   },
   "file_extension": ".py",
   "mimetype": "text/x-python",
   "name": "python",
   "nbconvert_exporter": "python",
   "pygments_lexer": "ipython3",
   "version": "3.8.8"
  }
 },
 "nbformat": 4,
 "nbformat_minor": 5
}
