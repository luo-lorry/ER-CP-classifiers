{
 "cells": [
  {
   "cell_type": "code",
   "execution_count": 1,
   "id": "b0021b5c",
   "metadata": {},
   "outputs": [],
   "source": [
    "import numpy as np # linear algebra\n",
    "import pandas as pd\n",
    "import matplotlib.pyplot as plt  #Graphics"
   ]
  },
  {
   "cell_type": "markdown",
   "id": "3beb566c",
   "metadata": {},
   "source": [
    "### Load the data\n",
    "\n",
    "Load the MNIST data set from two `.csv` files into two variables. \n",
    "Print the number of data points in the training and test sets.\n",
    "Print the number of object in eacsh class."
   ]
  },
  {
   "cell_type": "code",
   "execution_count": 16,
   "id": "40e6746b",
   "metadata": {},
   "outputs": [
    {
     "name": "stdout",
     "output_type": "stream",
     "text": [
      "0    6043\n",
      "1    5153\n",
      "2    5507\n",
      "3    5431\n",
      "4    5743\n",
      "5    4951\n",
      "Name: playlist_genre, dtype: int64\n",
      "Training dataset has 32828 observations and 16 variables\n"
     ]
    }
   ],
   "source": [
    "from sklearn. preprocessing import LabelEncoder\n",
    "\n",
    "spotify = 1\n",
    "mnist = 0\n",
    "\n",
    "if spotify:\n",
    "    train = pd.read_csv(\"data/spotify/spotify_songs.csv\") \n",
    "    train.dropna(inplace=True)\n",
    "    train_all = train\n",
    "    train = train.drop([\n",
    "        'track_name','track_album_name','track_id','playlist_id','track_album_id', \n",
    "        'playlist_name', 'track_album_release_date',\n",
    "        #'track_popularity','track_album_release_date',\n",
    "        #'track_artist','loudness','playlist_subgenre',\n",
    "        #'duration_ms','year','instrumentalness','mode','key'\n",
    "        ], axis=1)\n",
    "    le= LabelEncoder()\n",
    "    train.playlist_genre = le.fit_transform(train.playlist_genre)\n",
    "    train.playlist_subgenre = le.fit_transform(train.playlist_subgenre)\n",
    "    train.track_artist = le.fit_transform(train.track_artist)\n",
    "    print(train.playlist_genre.value_counts().sort_index())\n",
    "if mnist:\n",
    "    train = pd.read_csv(\"data/mnist_train.csv\")\n",
    "    train.dropna(inplace=True)\n",
    "    print(train.iloc[:,0].value_counts().sort_index())\n",
    "print (\"Training dataset has %i observations and %i variables\" %(train.shape[0], train.shape[1]))\n",
    "\n"
   ]
  },
  {
   "cell_type": "markdown",
   "id": "994de2e3",
   "metadata": {},
   "source": [
    "### Slipt the data\n",
    "\n",
    "Let us focus on the training data set. \n",
    "Split the 60000 observation into four equal-size random subsets, \n",
    "1. ${\\cal D}_{train}$ to train the classifier,\n",
    "2. ${\\cal D}_{val}$ to train the localization function, \n",
    "3. ${\\cal D}_{cal}$ to compute the quantiles,\n",
    "4. ${\\cal D}_{test}$ to evaluate the predictions sets.\n",
    "\n",
    "We normalize the pixel values using the (column) means and standard deviations."
   ]
  },
  {
   "cell_type": "code",
   "execution_count": 20,
   "id": "f934c413",
   "metadata": {},
   "outputs": [
    {
     "name": "stdout",
     "output_type": "stream",
     "text": [
      "data set shapes:\n",
      "train (8207, 13) (8207,)\n",
      "val (8207, 13) (8207,)\n",
      "cal (8207, 13) (8207,)\n",
      "test (8207, 13) (8207,)\n"
     ]
    }
   ],
   "source": [
    "from sklearn.decomposition import PCA\n",
    "dataset = train\n",
    "\n",
    "if mnist:\n",
    "    df_x = dataset.iloc[:,1:].to_numpy(dtype=float)\n",
    "    df_y = dataset.iloc[:, 0].to_numpy(dtype=int)\n",
    "    \n",
    "\n",
    "if spotify:\n",
    "    df_x = np.concatenate((dataset.iloc[:,0:2].to_numpy(dtype=float), dataset.iloc[:,5:].to_numpy(dtype=float)), axis = 1)\n",
    "    df_y = dataset.iloc[:, 2].to_numpy(dtype=int)\n",
    "\n",
    "df_x = np.array([df_x[i] - np.mean(df_x[i, :])/(1e-8 + np.std(df_x[i, :])) for i in range(len(df_x))])\n",
    "np.random.seed(1234) \n",
    "\n",
    "indexes = np.random.choice(len(df_x), len(df_x), replace=False)\n",
    "stops = [int(i * len(indexes)/4) for i in range(5)]\n",
    "X, y = [df_x[indexes[stops[i]:stops[i + 1]]] for i in range(4)], [df_y[indexes[stops[i] : stops[i + 1]]] for i in range(4)]\n",
    "\n",
    "print(\"data set shapes:\")\n",
    "names = ['train', 'val', 'cal', 'test']\n",
    "for ix in range(len(X)):\n",
    "    print(names[ix], X[ix].shape, y[ix].shape)\n",
    "Xall, yall = X, y"
   ]
  },
  {
   "cell_type": "markdown",
   "id": "8aa00dab",
   "metadata": {},
   "source": [
    "### Train the classifier\n",
    "\n",
    "Train a NN classifier on ${\\cal D}_{train}$. \n",
    "The error rate on the four sets is resonable."
   ]
  },
  {
   "cell_type": "code",
   "execution_count": 22,
   "id": "8700acbe",
   "metadata": {},
   "outputs": [
    {
     "name": "stdout",
     "output_type": "stream",
     "text": [
      "RandomForestClassifier()\n",
      "train ER = 0.02510052394297546\n",
      "val ER = 0.4957962714755696\n",
      "cal ER = 0.4975021323260631\n",
      "test ER = 0.49067868892408917\n"
     ]
    }
   ],
   "source": [
    "from sklearn.neural_network import MLPClassifier\n",
    "from sklearn.ensemble import RandomForestClassifier\n",
    "\n",
    "#nn = MLPClassifier(solver='lbfgs', hidden_layer_sizes=(100)) \n",
    "nn = RandomForestClassifier() \n",
    "\n",
    "iset = 0\n",
    "nn.fit(Xall[iset], yall[iset])\n",
    "print(nn)\n",
    "for iset in range(4):   \n",
    "    probs = nn.predict_proba(Xall[iset])\n",
    "    ER = 1 - sum([1 * (yall[iset][i] == np.argmax(probs[i])) for i in range(len(probs))])/len(probs)\n",
    "    print(names[iset], \"ER =\", ER)"
   ]
  },
  {
   "cell_type": "code",
   "execution_count": 25,
   "id": "406fb5d7",
   "metadata": {},
   "outputs": [
    {
     "name": "stdout",
     "output_type": "stream",
     "text": [
      "train ER = 0.02510052394297546\n",
      "train wrong = 0\n",
      "[]\n",
      "val ER = 0.4957962714755696\n",
      "val wrong = 32\n",
      "[(3, 4, 0.24), (1, 4, 0.56), (3, 1, 0.48), (1, 3, 0.24), (1, 0, 0.39), (3, 1, 0.52), (2, 0, 0.28), (3, 5, 0.27), (0, 2, 0.8), (2, 3, 0.48)]\n",
      "cal ER = 0.4975021323260631\n",
      "cal wrong = 34\n",
      "[(0, 2, 0.5), (1, 5, 0.47), (1, 0, 0.66), (1, 0, 0.37), (0, 5, 0.46), (2, 1, 0.46), (1, 3, 0.43), (1, 4, 0.52), (0, 2, 0.53), (3, 1, 0.48)]\n",
      "test ER = 0.49067868892408917\n",
      "test wrong = 26\n",
      "[(0, 1, 0.75), (3, 5, 0.38), (0, 5, 0.39), (2, 3, 0.39), (0, 2, 0.41), (3, 5, 0.36), (0, 3, 0.25), (0, 5, 0.31), (2, 5, 0.37), (3, 2, 0.37)]\n"
     ]
    }
   ],
   "source": [
    "def increaseTemperature(p, T):\n",
    "    if T != 0:\n",
    "        p = [[np.exp(f[i]/T) for i in range(len(p[0]))] for f in p]\n",
    "    pt = [[s/sum(pi) for s in pi] for pi in p]\n",
    "    return pt\n",
    "\n",
    "T = 0\n",
    "for iset in range(4):   \n",
    "    probs = increaseTemperature(nn.predict_proba(Xall[iset]), T)\n",
    "    ER = 1 - sum([1 * (yall[iset][i] == np.argmax(probs[i])) for i in range(len(probs))])/len(probs)\n",
    "    \n",
    "    wrong = sum([probs[i][yall[iset][i]] <.01 for i in range(len(probs))])\n",
    "    yWrong = [(yall[iset][i], np.argmax(probs[i]), np.round(max(probs[i]), 2)) for i in range(len(probs)) if probs[i][yall[iset][i]] <.1 ]\n",
    "    print(names[iset], \"ER =\", ER)\n",
    "    print(names[iset], \"wrong =\", wrong)\n",
    "    print(yWrong[:10])\n"
   ]
  },
  {
   "cell_type": "markdown",
   "id": "87cb31c3",
   "metadata": {},
   "source": [
    "### Train the localizer 1\n",
    "\n",
    "The goal is to train a model such that \n",
    "$$\n",
    "B  = A -  g(X, Y, f), \\quad  g(X, Y, f) \\sim A\n",
    "$$\n",
    "or\n",
    "$$\n",
    "B  = \\frac{A}{\\gamma +  g(X, Y, f)}, \\quad  g(X, Y, f) \\sim A\n",
    "$$\n",
    "We minimize \n",
    "$$\n",
    "{\\rm E}_{XY} \\| g(X, Y, f) - A \\|^2 \n",
    "$$"
   ]
  },
  {
   "cell_type": "code",
   "execution_count": 41,
   "id": "37a004db",
   "metadata": {},
   "outputs": [
    {
     "name": "stdout",
     "output_type": "stream",
     "text": [
      "iset: RSS= 1 0.04158646371603318\n",
      "iset: RSS= 2 0.043827231614576065\n",
      "iset: RSS= 3 0.0443494855132228\n"
     ]
    },
    {
     "data": {
      "image/png": "[encoded data removed]",
      "text/plain": [
       "<Figure size 640x480 with 1 Axes>"
      ]
     },
     "metadata": {},
     "output_type": "display_data"
    }
   ],
   "source": [
    "from sklearn.ensemble import RandomForestRegressor  \n",
    "from sklearn.linear_model import LinearRegression\n",
    "from sklearn.neighbors import KNeighborsRegressor\n",
    "from sklearn.decomposition import PCA\n",
    "#Split the train dataset and reduce dimensions\n",
    "def reduceDimensions(X, d):\n",
    "    pca = PCA(n_components = d)\n",
    "    pca.fit(X)\n",
    "    return pca.transform(X)\n",
    "\n",
    "def entropy(p):\n",
    "    return -sum([s * np.log(s + .001) for s in p])\n",
    "    \n",
    "def Brf(g, a, z, gamma):\n",
    "    s = g.predict(z)\n",
    "    return a/(gamma + s)\n",
    "    #return a - s\n",
    "\n",
    "def trainRegressor(a, z):\n",
    "    g = RandomForestRegressor(n_estimators=100, bootstrap=True, max_depth=20, max_samples=100) \n",
    "    #g = LinearRegression()\n",
    "    #g = KNeighborsRegressor(n_neighbors=K)\n",
    "    g.fit(z, a)\n",
    "    return g\n",
    "\n",
    "T = .2\n",
    "if spotify:\n",
    "    d = len(Xall[0][0])\n",
    "if mnist:\n",
    "    d = 20\n",
    "distribution = 1\n",
    "samples = 0\n",
    "for iset in [1, 2, 3]:\n",
    "    model = nn\n",
    "    probs = increaseTemperature(nn.predict_proba(Xall[iset]), T)\n",
    "    Xreduced = reduceDimensions(Xall[iset], d)\n",
    "    X = np.array([Xreduced[i] for i in range(len(Xall[iset])) if entropy(probs[i])>thr])\n",
    "    Y = np.array([yall[iset][i] for i in range(len(Xall[iset])) if entropy(probs[i])>thr]).reshape(-1, 1)\n",
    "    f = np.array([probs[i] for i in range(len(Xall[iset])) if entropy(probs[i])>thr])\n",
    "    a = np.array([1 - probs[i][yall[iset][i]] for i in range(len(Xall[iset])) if entropy(probs[i])>thr])#.reshape(-1, 1)    \n",
    "    e = np.array([entropy(probs[i]) for i in range(len(Xall[iset])) if entropy(probs[i])>thr]).reshape(-1, 1)\n",
    "    \n",
    "    z = np.concatenate((np.ones([len(f), 1]), X, f, Y, e), axis = 1)\n",
    "    if (iset == 1): g = trainRegressor(a, z)\n",
    "    print(\"iset: RSS=\",  iset, sum((a-g.predict(z))**2)/len(Y))\n",
    "    if distribution and iset == 1:\n",
    "        plt.plot(np.sort(Brf(g, a, z, gamma), axis = 0), alpha=0.5, label='b')\n",
    "        plt.plot(np.sort(a, axis = 0), alpha=0.5, label='a')\n",
    "    if samples:\n",
    "        if (iset in [1, 2, 3]):\n",
    "            plt.plot(a, g.predict(z), '*', alpha=0.5, label=str(iset))\n",
    "            \n",
    "plt.legend()              \n",
    "plt.show()\n"
   ]
  },
  {
   "cell_type": "code",
   "execution_count": 42,
   "id": "930d26ca",
   "metadata": {},
   "outputs": [
    {
     "name": "stdout",
     "output_type": "stream",
     "text": [
      "iset, ER, Y[1]= 2 [0.49750213] [5]\n",
      "(8207,)\n",
      "k, Ca, Cb, Y 3618 [0, 1, 2, 3, 4, 5] [0, 1, 2, 3, 4, 5] [4]\n",
      "alpha, TP, FP, FN, F1 0.01 [8107, 8110] [38377, 37993] [100, 97] [0.2964655976303231, 0.29865586448167925]\n",
      "iset, ER, Y[1]= 2 [0.49750213] [5]\n",
      "(8207,)\n",
      "k, Ca, Cb, Y 8079 [0, 1, 2, 3, 4, 5] [0, 1, 2, 3, 4, 5] [3]\n",
      "alpha, TP, FP, FN, F1 0.05 [7796, 7769] [32069, 31906] [411, 438] [0.3243468131136628, 0.32450607744037424]\n",
      "iset, ER, Y[1]= 2 [0.49750213] [5]\n",
      "(8207,)\n",
      "k, Ca, Cb, Y 7042 [3, 4] [1, 3, 4] [3]\n",
      "alpha, TP, FP, FN, F1 0.32 [5621, 5620] [8574, 8678] [2586, 2587] [0.5018301937327024, 0.4994445678738058]\n",
      "[0.2964655976303231, 0.3243468131136628, 0.5018301937327024]\n"
     ]
    },
    {
     "data": {
      "image/png": "[encoded data removed]",
      "text/plain": [
       "<Figure size 640x480 with 1 Axes>"
      ]
     },
     "metadata": {},
     "output_type": "display_data"
    }
   ],
   "source": [
    "tryAlpha = [0.01, 0.05, 0.32]\n",
    "model = nn\n",
    "gamma = 1\n",
    "auc = [], []    \n",
    "for alpha in tryAlpha:\n",
    "    iset = 2\n",
    "    probs = increaseTemperature(nn.predict_proba(Xall[iset]), T)\n",
    "    Xreduced = reduceDimensions(Xall[iset], d)\n",
    "    X = np.array([Xreduced[i] for i in range(len(Xall[iset])) if entropy(probs[i])>thr])\n",
    "    Y = np.array([yall[iset][i] for i in range(len(Xall[iset])) if entropy(probs[i])>thr]).reshape(-1, 1)\n",
    "    f = np.array([probs[i] for i in range(len(Xall[iset])) if entropy(probs[i])>thr])\n",
    "    a = np.array([1 - probs[i][yall[iset][i]] for i in range(len(Xall[iset])) if entropy(probs[i])>thr])#.reshape(-1, 1)    \n",
    "    e = np.array([entropy(probs[i]) for i in range(len(Xall[iset])) if entropy(probs[i])>thr]).reshape(-1, 1)\n",
    "    print(\"iset, ER, Y[1]=\",  iset, sum([Y[i]!=np.argmax(f[i]) for i in range(len(Y))])/len(Y), Y[0])\n",
    "    z = np.concatenate((np.ones([len(f), 1]), X, f, Y, e), axis = 1)\n",
    "\n",
    "    acal = a\n",
    "    bcal = Brf(g, acal, z, gamma)    \n",
    "    print(bcal.shape)\n",
    "    QA = np.sort(acal, axis = 0)[int(np.ceil((len(acal) + 1) * (1 - alpha)))-1]\n",
    "    QB = np.sort(bcal, axis = 0)[int(np.ceil((len(bcal) + 1) * (1 - alpha)))-1]\n",
    "    iset = 3\n",
    "    probs = increaseTemperature(nn.predict_proba(Xall[iset]), T)\n",
    "    Xreduced = reduceDimensions(Xall[iset], d)\n",
    "    X = np.array([Xreduced[i] for i in range(len(Xall[iset])) if entropy(probs[i])>thr])\n",
    "    Y = np.array([yall[iset][i] for i in range(len(Xall[iset])) if entropy(probs[i])>thr]).reshape(-1, 1)\n",
    "    f = np.array([probs[i] for i in range(len(Xall[iset])) if entropy(probs[i])>thr])\n",
    "    a = np.array([1 - probs[i][yall[iset][i]] for i in range(len(Xall[iset])) if entropy(probs[i])>thr])#.reshape(-1, 1)    \n",
    "    e = np.array([entropy(probs[i]) for i in range(len(Xall[iset])) if entropy(probs[i])>thr]).reshape(-1, 1)\n",
    "    z = np.concatenate((np.ones([len(f), 1]), X, f, Y, e), axis = 1)\n",
    "\n",
    "    atest = [(1 - f[:, i]).reshape(-1, 1) for i in range(len(f[0]))]\n",
    "    zi = [np.concatenate((np.ones([len(f), 1]), X, f, Y, e), axis = 1) for i in range(len(f[0]))]\n",
    "    btest = [Brf(g, (1 - f[:, i]), zi[i], gamma) for i in range(len(f[0]))]\n",
    "    intervalsA = [[j for j in range(len(atest)) if atest[j][i] <= QA] for i in range(len(atest[0]))]\n",
    "    intervalsB = [[j for j in range(len(btest)) if btest[j][i] <= QB] for i in range(len(btest[0]))]\n",
    "    k = np.random.randint(len(btest[0]))\n",
    "    print(\"k, Ca, Cb, Y\", k, intervalsA[k], intervalsB[k], Y[k])\n",
    "        \n",
    "    TP, FP, TN, FN, F1 = [0, 0], [0, 0],[0, 0], [0, 0], [0, 0]\n",
    "    intervalsAll = intervalsA, intervalsB\n",
    "    for iModel in [0, 1]:\n",
    "        for i in range(len(intervalsA)):\n",
    "            intervals = intervalsAll[iModel][i]\n",
    "            y = Y[i]\n",
    "            positives = [j for j in range(10) if j in intervals]\n",
    "            TP[iModel] = TP[iModel] + sum([1 for j in positives if j == y])\n",
    "            FP[iModel] = FP[iModel] + sum([1 for j in positives if j != y])\n",
    "            negatives = [j for j in range(10) if j not in intervals]\n",
    "            TN[iModel] = TN[iModel] + sum([1 for j in negatives if j != y])  \n",
    "            FN[iModel] = FN[iModel] + sum([1 for j in negatives if j == y]) \n",
    "        F1 = 2 * TP[iModel]/(2 * TP[iModel] + FP[iModel] + FN[iModel])\n",
    "        auc[iModel].append(F1)\n",
    "    print('alpha, TP, FP, FN, F1', alpha, TP, FP, FN, [auc[0][-1], auc[1][-1]])\n",
    "    \n",
    "s = np.sum(auc, axis=1)\n",
    "print(auc[0])\n",
    "plt.plot([u for u in tryAlpha], [x for x in auc[1]], '-', label='weighted sumF1='+str(s[1]) , alpha=0.5)\n",
    "plt.plot([u for u in tryAlpha], [x for x in auc[0]], '--', label='unweighted sumF1='+str(s[0]), alpha=0.5)\n",
    "plt.legend()\n",
    "plt.show()"
   ]
  },
  {
   "cell_type": "code",
   "execution_count": null,
   "id": "99b3f890",
   "metadata": {},
   "outputs": [],
   "source": [
    "\n",
    "def trainRegressor(z, a):\n",
    "    g = MLPRegressor(solver='lbfgs', hidden_layer_sizes=(10, 10, 10))\n",
    "    g.fit(z, a)\n",
    "    return g\n",
    "\n",
    "for iset in [1, 2, 3]:\n",
    "    model = nn\n",
    "    X = Xall[iset]\n",
    "    Y = yall[iset]\n",
    "    probs = model.predict_proba(X)\n",
    "    eps = .001\n",
    "    #probs = [p + eps * np.random.rand(len(p)) for p in probs]\n",
    "    #probs = [p/sum(p) for p in probs]\n",
    "    \n",
    "    #a = np.array([(1 - probs[i][Y[i]]) for i in range(len(Y))])\n",
    "    a = np.array([(1 - probs[i][Y[i]]) + 1/(1 + probs[i][Y[i]]) * entropy(probs[i]) for i in range(len(Y))])\n",
    "    print(a.shape)\n",
    "    ia = [i for i in range(len(a))]# if a[i]>0.05 and a[i]<.95]\n",
    "    print(len(ia))\n",
    "    aTrain = a[ia]\n",
    "    XTrain = X[ia, :]\n",
    "    probsTrain = probs[ia, :]\n",
    "    e = np.array([entropy(p) for p in probsTrain]).reshape(-1, 1)\n",
    "    yTrain = Y[ia].reshape(-1, 1)\n",
    "    zTrain = np.concatenate((probsTrain, yTrain, e), axis = 1)\n",
    "    #a = np.array([entropy(probs[i]) for i in range(len(Y))])\n",
    "    if (iset == 1):\n",
    "        #g = trainRegressor(XTrain, aTrain)\n",
    "        g = trainRegressor(zTrain, aTrain)\n",
    "    \n",
    "    e = np.array([entropy(p) for p in probs]).reshape(-1, 1)\n",
    "    Y = Y.reshape(-1, 1)\n",
    "    z = np.concatenate((probs, Y, e), axis = 1)\n",
    "    print((e == 0).shape)\n",
    "    aPredict = g.predict(z)\n",
    "    aPredict  = np.array([ 0 + aPredict[i] * (e[i] >.1) + 1 * (np.argmax(probs[i]) != Y[i]) * (e[i] <.1) for i in range(len(aPredict))])\n",
    "    print(aPredict.shape)\n",
    "    ER = sum([(a[i] - aPredict[i])**2 for i in range(len(aPredict))])\n",
    "    print(names[iset], \"ER = \", ER)\n",
    "    plt.plot(a, aPredict, '*', alpha = .3, label=names[iset])\n",
    "\n",
    "plt.legend()              \n",
    "plt.show()\n"
   ]
  },
  {
   "cell_type": "code",
   "execution_count": null,
   "id": "958a11ad",
   "metadata": {},
   "outputs": [],
   "source": [
    "for iset in [0 , 1, 2, 3]:\n",
    "    model = nn\n",
    "    X = Xall[iset]\n",
    "    Y = yall[iset]\n",
    "    probs = model.predict_proba(X)\n",
    "    a = np.array([(1 - probs[i][Y[i]]) for i in range(len(Y))])    \n",
    "    e = np.array([entropy(p) for p in probs]).reshape(-1, 1)\n",
    "    Y = Y.reshape(-1, 1)\n",
    "    z = np.concatenate((probs, Y, e), axis = 1)\n",
    "    print((e == 0).shape)\n",
    "    aPredict = g.predict(z)\n",
    "    aPredict  = np.array([ 0 + aPredict[i] * (e[i] >.1) + 1 * (np.argmax(probs[i]) != Y[i]) * (e[i] <.1) for i in range(len(aPredict))])\n",
    "    print(aPredict.shape)\n",
    "    ER = sum([(a[i] - aPredict[i])**2 for i in range(len(aPredict))])\n",
    "    print(names[iset], \"ER = \", ER)\n",
    "    plt.plot(a, aPredict, '*', alpha = .3, label=names[iset])"
   ]
  }
 ],
 "metadata": {
  "kernelspec": {
   "display_name": "Python 3 (ipykernel)",
   "language": "python",
   "name": "python3"
  },
  "language_info": {
   "codemirror_mode": {
    "name": "ipython",
    "version": 3
   },
   "file_extension": ".py",
   "mimetype": "text/x-python",
   "name": "python",
   "nbconvert_exporter": "python",
   "pygments_lexer": "ipython3",
   "version": "3.8.8"
  }
 },
 "nbformat": 4,
 "nbformat_minor": 5
}
