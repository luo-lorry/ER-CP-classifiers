{
 "cells": [
  {
   "cell_type": "markdown",
   "metadata": {},
   "source": [
    "- [CNN](https://github.com/rickiepark/pytorch-examples/blob/master/mnist.ipynb)\n",
    "- [Logit Normalization](https://github.com/hongxin001/logitnorm_ood)"
   ]
  },
  {
   "cell_type": "code",
   "execution_count": 1,
   "metadata": {},
   "outputs": [
    {
     "name": "stdout",
     "output_type": "stream",
     "text": [
      "Using matplotlib backend: <object object at 0x107f1f390>\n",
      "%pylab is deprecated, use %matplotlib inline and import the required libraries.\n",
      "Populating the interactive namespace from numpy and matplotlib\n",
      "Python implementation: CPython\n",
      "Python version       : 3.11.5\n",
      "IPython version      : 8.15.0\n",
      "\n",
      "numpy  : 1.26.2\n",
      "torch  : 2.1.1\n",
      "sklearn: 1.3.0\n",
      "\n"
     ]
    }
   ],
   "source": [
    "%pylab\n",
    "%matplotlib inline\n",
    "%load_ext watermark\n",
    "%watermark -v -p numpy,torch,sklearn"
   ]
  },
  {
   "cell_type": "code",
   "execution_count": 2,
   "metadata": {},
   "outputs": [],
   "source": [
    "import os\n",
    "import torch\n",
    "import torch.nn as nn\n",
    "import torch.nn.functional as F\n",
    "import torch.optim as optim\n",
    "from torchvision import datasets, transforms\n",
    "from torch.autograd import Variable\n",
    "from loss_function import LogitNormLoss\n",
    "from sklearn.neural_network import MLPRegressor\n",
    "from sklearn.ensemble import RandomForestRegressor"
   ]
  },
  {
   "cell_type": "code",
   "execution_count": 3,
   "metadata": {},
   "outputs": [],
   "source": [
    "def seed_everything(seed=2021):\n",
    "    random.seed(seed)\n",
    "    os.environ['PYTHONHASHSEED'] = str(seed)\n",
    "    np.random.seed(seed)\n",
    "    torch.manual_seed(seed)\n",
    "    torch.cuda.manual_seed(seed)\n",
    "    torch.cuda.manual_seed_all(seed)\n",
    "    torch.backends.cudnn.benchmark = False\n",
    "    torch.backends.cudnn.deterministic = True\n",
    "\n",
    "seed_everything(2024)"
   ]
  },
  {
   "cell_type": "code",
   "execution_count": 4,
   "metadata": {},
   "outputs": [],
   "source": [
    "def entropy(logits):\n",
    "    full_probs = F.softmax(logits, dim=-1, dtype=torch.float32)\n",
    "    full_logprobs = F.log_softmax(logits, dim=-1, dtype=torch.float32)\n",
    "    ent = -torch.sum(full_probs * full_logprobs, dim=-1)\n",
    "    return ent"
   ]
  },
  {
   "cell_type": "code",
   "execution_count": 5,
   "metadata": {},
   "outputs": [],
   "source": [
    "class MnistClassifier(nn.Module):\n",
    "    def __init__(self):\n",
    "        super(MnistClassifier, self).__init__()\n",
    "        self.conv1 = nn.Conv2d(1, 32, 5, padding=2)\n",
    "        self.conv2 = nn.Conv2d(32, 64, 5, padding=2)\n",
    "        self.fc1 = nn.Linear(64*7*7, 1024)\n",
    "        self.fc2 = nn.Linear(1024, 10)\n",
    "        \n",
    "    def forward(self, x):\n",
    "        x = F.max_pool2d(F.relu(self.conv1(x)), 2)\n",
    "        x = F.max_pool2d(F.relu(self.conv2(x)), 2)\n",
    "        x = x.view(-1, 64*7*7)   # reshape Variable\n",
    "        x = F.relu(self.fc1(x))\n",
    "        x = F.dropout(x, training=self.training)\n",
    "        x = self.fc2(x)\n",
    "        return F.softmax(x) # F.log_softmax(x)"
   ]
  },
  {
   "cell_type": "code",
   "execution_count": 6,
   "metadata": {},
   "outputs": [],
   "source": [
    "batch_size = 50\n",
    "train_subset, val_subset, cal_subset, test_subset = torch.utils.data.random_split(\n",
    "        datasets.MNIST('data', train=True, download=True, transform=transforms.ToTensor()), [15000, 15000, 15000, 15000], generator=torch.Generator().manual_seed(1))\n",
    "\n",
    "train_loader = torch.utils.data.DataLoader(dataset=train_subset, shuffle=True, batch_size=batch_size)"
   ]
  },
  {
   "cell_type": "code",
   "execution_count": 7,
   "metadata": {
    "collapsed": true
   },
   "outputs": [
    {
     "name": "stderr",
     "output_type": "stream",
     "text": [
      "/var/folders/x8/908frjt170d_bfpfjzgp163r0000gn/T/ipykernel_55523/4031152407.py:16: UserWarning: Implicit dimension choice for softmax has been deprecated. Change the call to include dim=X as an argument.\n",
      "  return F.softmax(x) # F.log_softmax(x)\n"
     ]
    },
    {
     "name": "stdout",
     "output_type": "stream",
     "text": [
      "Train Step: 0\tLoss: 2.327\tAccuracy: 6.000\n",
      "Train Step: 100\tLoss: 0.385\tAccuracy: 92.000\n",
      "Train Step: 200\tLoss: 0.212\tAccuracy: 92.000\n",
      "Train Step: 300\tLoss: 0.108\tAccuracy: 98.000\n",
      "Train Step: 400\tLoss: 0.153\tAccuracy: 96.000\n",
      "Train Step: 500\tLoss: 0.242\tAccuracy: 92.000\n",
      "Train Step: 600\tLoss: 0.040\tAccuracy: 100.000\n",
      "Train Step: 700\tLoss: 0.075\tAccuracy: 96.000\n",
      "Train Step: 800\tLoss: 0.046\tAccuracy: 100.000\n",
      "Train Step: 900\tLoss: 0.157\tAccuracy: 98.000\n",
      "Train Step: 1000\tLoss: 0.045\tAccuracy: 98.000\n",
      "Train Step: 1100\tLoss: 0.028\tAccuracy: 100.000\n",
      "Train Step: 1200\tLoss: 0.201\tAccuracy: 94.000\n",
      "Train Step: 1300\tLoss: 0.073\tAccuracy: 98.000\n",
      "Train Step: 1400\tLoss: 0.039\tAccuracy: 98.000\n"
     ]
    },
    {
     "data": {
      "text/plain": [
       "MnistClassifier(\n",
       "  (conv1): Conv2d(1, 32, kernel_size=(5, 5), stride=(1, 1), padding=(2, 2))\n",
       "  (conv2): Conv2d(32, 64, kernel_size=(5, 5), stride=(1, 1), padding=(2, 2))\n",
       "  (fc1): Linear(in_features=3136, out_features=1024, bias=True)\n",
       "  (fc2): Linear(in_features=1024, out_features=10, bias=True)\n",
       ")"
      ]
     },
     "execution_count": 7,
     "metadata": {},
     "output_type": "execute_result"
    }
   ],
   "source": [
    "classifier = MnistClassifier()\n",
    "optimizer = optim.Adam(classifier.parameters(), lr=0.0001)\n",
    "classifier.train()\n",
    "train_loss = []\n",
    "train_accu = []\n",
    "i = 0\n",
    "loss_func = LogitNormLoss('cpu', 0.1)\n",
    "for epoch in range(5):\n",
    "    for data, target in train_loader:\n",
    "        data, target = Variable(data), Variable(target)\n",
    "        optimizer.zero_grad()\n",
    "        output = classifier(data)\n",
    "        loss = loss_func(output, target) # F.nll_loss(output, target)\n",
    "        loss.backward()    # calc gradients\n",
    "        train_loss.append(loss.data.item())\n",
    "        optimizer.step()   # update gradients\n",
    "        prediction = output.data.max(1)[1]   # first column has actual prob.\n",
    "        accuracy = prediction.eq(target.data).sum()/batch_size*100\n",
    "        train_accu.append(accuracy)\n",
    "        if i % 100 == 0:\n",
    "            print('Train Step: {}\\tLoss: {:.3f}\\tAccuracy: {:.3f}'.format(i, loss.data.item(), accuracy))\n",
    "        i += 1\n",
    "        \n",
    "classifier.eval()"
   ]
  },
  {
   "cell_type": "code",
   "execution_count": 8,
   "metadata": {},
   "outputs": [
    {
     "name": "stderr",
     "output_type": "stream",
     "text": [
      "/var/folders/x8/908frjt170d_bfpfjzgp163r0000gn/T/ipykernel_55523/4031152407.py:16: UserWarning: Implicit dimension choice for softmax has been deprecated. Change the call to include dim=X as an argument.\n",
      "  return F.softmax(x) # F.log_softmax(x)\n"
     ]
    }
   ],
   "source": [
    "cal_loader = torch.utils.data.DataLoader(dataset=cal_subset, shuffle=False, batch_size=len(cal_subset.indices))\n",
    "for data, target in cal_loader:\n",
    "    data, target = Variable(data), Variable(target)\n",
    "    output = classifier(data)\n",
    "# AcalPredict = regressor(data).detach().numpy().flatten()\n",
    "Acal = 1 - output[np.arange(output.shape[0]), target]\n",
    "# Acal = entropy(output)\n",
    "Acal = Acal.detach().numpy()\n",
    "\n",
    "Bcal = Acal / entropy(output).detach().numpy()"
   ]
  },
  {
   "cell_type": "code",
   "execution_count": 10,
   "metadata": {
    "collapsed": true
   },
   "outputs": [
    {
     "name": "stdout",
     "output_type": "stream",
     "text": [
      "QA, QB 0.81761885 0.3554769\n"
     ]
    },
    {
     "data": {
      "text/plain": [
       "<matplotlib.lines.Line2D at 0x2a7cfc690>"
      ]
     },
     "execution_count": 10,
     "metadata": {},
     "output_type": "execute_result"
    },
    {
     "data": {
      "image/png": "[encoded data removed]",
      "text/plain": [
       "<Figure size 640x480 with 1 Axes>"
      ]
     },
     "metadata": {},
     "output_type": "display_data"
    }
   ],
   "source": [
    "plt.hist(Bcal, alpha=.5, color='b', label='reweighted')\n",
    "plt.hist(Acal, alpha=.5, color='r', label='original')\n",
    "alpha = .01\n",
    "QB = np.sort(Bcal)[int(np.ceil((len(Bcal) + 1) * (1 - alpha)))]\n",
    "QA = np.sort(Acal)[int(np.ceil((len(Acal) + 1) * (1 - alpha)))]\n",
    "print(\"QA, QB\", QA, QB)\n",
    "plt.axvline(x=QB, color='b')\n",
    "plt.axvline(x=QA, color='r')"
   ]
  },
  {
   "cell_type": "code",
   "execution_count": 14,
   "metadata": {},
   "outputs": [
    {
     "name": "stderr",
     "output_type": "stream",
     "text": [
      "/var/folders/x8/908frjt170d_bfpfjzgp163r0000gn/T/ipykernel_55523/4031152407.py:16: UserWarning: Implicit dimension choice for softmax has been deprecated. Change the call to include dim=X as an argument.\n",
      "  return F.softmax(x) # F.log_softmax(x)\n"
     ]
    },
    {
     "data": {
      "text/plain": [
       "<matplotlib.legend.Legend at 0x30a7607d0>"
      ]
     },
     "execution_count": 14,
     "metadata": {},
     "output_type": "execute_result"
    },
    {
     "data": {
      "image/png": "[encoded data removed]",
      "text/plain": [
       "<Figure size 640x480 with 1 Axes>"
      ]
     },
     "metadata": {},
     "output_type": "display_data"
    }
   ],
   "source": [
    "fig, ax = plt.subplots()\n",
    "\n",
    "gamma = 0.0\n",
    "tryAlpha = np.logspace(-3, -0.5, 20)\n",
    "test_loader = torch.utils.data.DataLoader(dataset=test_subset, shuffle=False, batch_size=len(test_subset.indices))\n",
    "for data, target in test_loader:\n",
    "    data, target = Variable(data), Variable(target)\n",
    "    output = classifier(data)\n",
    "\n",
    "probsTest = output.detach().numpy()\n",
    "y_test = target.detach().numpy()\n",
    "Atest = np.array([[1 - probsTest[i][j] for j in range(len(probsTest[i]))] for i in range(len(probsTest))])\n",
    "Btest = Atest / (entropy(output).detach().numpy()[:, np.newaxis])\n",
    "\n",
    "auc = [], []\n",
    "# Bcal = Acal / (AcalPredict + gamma)\n",
    "# Btest = Atest / (AtestPredict[:, np.newaxis] + gamma)\n",
    "\n",
    "for alpha in tryAlpha:\n",
    "    QA = np.sort(Acal)[int(np.ceil((len(Acal) + 1) * (1 - alpha)))-1]\n",
    "    QB = np.sort(Bcal)[int(np.ceil((len(Bcal) + 1) * (1 - alpha)))-1]\n",
    "\n",
    "    intervalsA = [[j for j in range(len(probsTest[i])) if Atest[i][j] <= QA] for i in range(len(probsTest))]\n",
    "    intervalsB = [[j for j in range(len(probsTest[i])) if Btest[i][j] <= QB] for i in range(len(probsTest))]\n",
    "\n",
    "    TP, FP, TN, FN = [0, 0], [0, 0],[0, 0], [0, 0]\n",
    "    intervalsAll = intervalsA, intervalsB\n",
    "    for iModel in [0, 1]:\n",
    "        for i in range(len(intervalsA)):\n",
    "            intervals = intervalsAll[iModel][i]\n",
    "            y = y_test[i]\n",
    "            positives = [j for j in range(10) if j in intervals]\n",
    "            TP[iModel] = TP[iModel] + sum([1 for j in positives if j == y])\n",
    "            FP[iModel] = FP[iModel] + sum([1 for j in positives if j != y])\n",
    "            negatives = [j for j in range(10) if j not in intervals]\n",
    "            TN[iModel] = TN[iModel] + sum([1 for j in negatives if j != y])  \n",
    "            FN[iModel] = FN[iModel] + sum([1 for j in negatives if j == y]) \n",
    "        F1 = 2 * TP[iModel]/(2 * TP[iModel] + FP[iModel] + FN[iModel])\n",
    "        auc[iModel].append(F1)\n",
    "s = [np.round(sum([x for x in auc[iModel]]), 3) for iModel in [0, 1]]\n",
    "ax.plot(tryAlpha, [x for x in auc[0]], label='unweighted: sumF1='+str(s[0]), alpha=0.5, color='r', marker='x')\n",
    "ax.plot(tryAlpha, [x for x in auc[1]], label=f'weighted: sumF1='+str(s[1]), alpha=0.5)\n",
    "  \n",
    "plt.legend()\n"
   ]
  },
  {
   "cell_type": "code",
   "execution_count": 15,
   "metadata": {},
   "outputs": [
    {
     "data": {
      "text/plain": [
       "(Counter({1: 10206, 0: 4794}), Counter({1: 10203, 0: 4797}))"
      ]
     },
     "execution_count": 15,
     "metadata": {},
     "output_type": "execute_result"
    }
   ],
   "source": [
    "from collections import Counter\n",
    "Counter([len(a) for a in intervalsA]), Counter([len(a) for a in intervalsB])"
   ]
  },
  {
   "cell_type": "code",
   "execution_count": 16,
   "metadata": {},
   "outputs": [
    {
     "data": {
      "text/plain": [
       "array([-2.17093209e-02, -1.78845332e-02, -1.53520769e-02, -1.03309589e-02,\n",
       "       -8.04335580e-03, -9.11895620e-03, -5.39799280e-03, -2.13092189e-03,\n",
       "       -2.83423045e-03, -1.35281692e-03, -6.97996610e-04, -3.84267393e-04,\n",
       "       -3.97021499e-04, -2.27318193e-04,  2.81205005e-06, -2.16700376e-04,\n",
       "       -1.52321248e-04, -1.20127317e-04, -3.00412750e-04,  1.41710534e-04])"
      ]
     },
     "execution_count": 16,
     "metadata": {},
     "output_type": "execute_result"
    }
   ],
   "source": [
    "(np.array(auc[0]) - np.array(auc[1]))"
   ]
  },
  {
   "cell_type": "code",
   "execution_count": null,
   "metadata": {},
   "outputs": [],
   "source": []
  }
 ],
 "metadata": {
  "kernelspec": {
   "display_name": "env_full",
   "language": "python",
   "name": "env_full"
  },
  "language_info": {
   "codemirror_mode": {
    "name": "ipython",
    "version": 3
   },
   "file_extension": ".py",
   "mimetype": "text/x-python",
   "name": "python",
   "nbconvert_exporter": "python",
   "pygments_lexer": "ipython3",
   "version": "3.11.5"
  }
 },
 "nbformat": 4,
 "nbformat_minor": 2
}
